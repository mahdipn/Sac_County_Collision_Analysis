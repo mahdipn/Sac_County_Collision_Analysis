{
 "cells": [
  {
   "cell_type": "markdown",
   "metadata": {},
   "source": [
    "<b><font size=\"8\">Identifying Contributing Factors to Collision Severity in Sacramento County, CA. </font><b>"
   ]
  },
  {
   "cell_type": "markdown",
   "metadata": {},
   "source": [
    "# Introduction\n",
    "Each year, more than 40,000 road users get killed on the roadways in the US. Despite considerable advances in the vehicle industry and the safety of occupants, the existing safety trend is yet a major concern. Addressing this trend needs a thorough understanding of collision causes. In other words, identifying the collision causes is one of the major steps towards a successful, data-driven safety enhancement. To this end, we explored the contributing factors to collision and their higher injury severity in Sacramento, CA."
   ]
  },
  {
   "cell_type": "markdown",
   "metadata": {},
   "source": [
    "Below is the libraries that we need tro tackle this problem:"
   ]
  },
  {
   "cell_type": "code",
   "execution_count": 1,
   "metadata": {},
   "outputs": [],
   "source": [
    "import pandas as pd\n",
    "import numpy as np\n",
    "import matplotlib.pyplot as plt\n",
    "%matplotlib inline\n",
    "import seaborn as sns\n",
    "\n",
    "# models:\n",
    "from sklearn.linear_model import LogisticRegression\n",
    "from sklearn.svm import SVC\n",
    "from sklearn.neighbors import KNeighborsClassifier\n",
    "from sklearn.tree import DecisionTreeClassifier\n",
    "\n",
    "\n",
    "# model selection libraries\n",
    "from sklearn.model_selection import RepeatedStratifiedKFold, KFold, train_test_split, RepeatedKFold, GridSearchCV\n",
    "from sklearn.feature_selection import RFECV\n",
    "\n",
    "# evaluation metrics\n",
    "from sklearn.metrics import confusion_matrix, accuracy_score, f1_score, classification_report, jaccard_score, log_loss, plot_confusion_matrix"
   ]
  },
  {
   "cell_type": "markdown",
   "metadata": {},
   "source": [
    "# Data\n",
    "For this study, we used the collision data in unincorporated Sacramento County for the most recent 5-year period, i.e., 2015 through 2019. The data is publicly available through the SWITRS collision database. A review of the data identifies 99,590 collisions during the study period. The figure below shows clearly that there is no downward trend in the frequency of collisions. This is exactly the issue that we were talking about that needs a close investigation."
   ]
  },
  {
   "cell_type": "code",
   "execution_count": 2,
   "metadata": {},
   "outputs": [],
   "source": [
    "# during the read process, I got an error that some columns have mixed data types, which caused some issues (like pcf_violation category was showing two varioues counts for each catrgoey like 3:26000 and 3:14000)\n",
    "# There were two solutions, first determine the dtype when reading the file, next set the low_memory equal to False. I chose second and it fixed the issue.\n",
    "collision_df = pd.read_csv('Sac_County_All_Collisions_2015-2019.txt', sep='\\t', low_memory=False)"
   ]
  },
  {
   "cell_type": "code",
   "execution_count": 3,
   "metadata": {},
   "outputs": [
    {
     "data": {
      "text/plain": [
       "99590"
      ]
     },
     "execution_count": 3,
     "metadata": {},
     "output_type": "execute_result"
    }
   ],
   "source": [
    "collision_df.shape[0]"
   ]
  },
  {
   "cell_type": "code",
   "execution_count": 4,
   "metadata": {},
   "outputs": [
    {
     "data": {
      "image/png": "[encoded data removed]",
      "text/plain": [
       "<Figure size 720x432 with 1 Axes>"
      ]
     },
     "metadata": {},
     "output_type": "display_data"
    }
   ],
   "source": [
    "# I personally like seaborn defaults better, this is how we set up the figure format to those of seaborn\n",
    "sns.set()\n",
    "\n",
    "# set the figure size\n",
    "plt.figure(figsize=(10,6)) \n",
    "\n",
    "# group the collisions by year and make the bar chart\n",
    "ax = collision_df.groupby(by='accident_year').count()['case_id'].plot(kind='bar'); \n",
    "\n",
    "# adding annual collision frequencies as labels to bars\n",
    "labels = collision_df.groupby(by='accident_year').count()['case_id'].tolist() # cretae a list of collision frequency per year\n",
    "rects = ax.patches\n",
    "for rect, label in zip(rects, labels):\n",
    "    height = rect.get_height()\n",
    "    ax.text(rect.get_x() + rect.get_width() / 2, height + 5, label,\n",
    "            ha='center', va='bottom')\n",
    "\n",
    "# adding axis labels\n",
    "plt.xlabel('Accident Year');\n",
    "plt.ylabel('# of Collisions');\n",
    "plt.show()"
   ]
  },
  {
   "cell_type": "markdown",
   "metadata": {},
   "source": [
    "Before digging deep into the data analysis portion, we need to prepare the data for analysis and do some preliminary data exploration. So, in this section of the analysis, we will do the \"data preparation\" part of the analysis, which includes several aspects such as data cleaning, outlier removal, correlation identification, feature engineering, etc. Let's look at some info, like the potential covariates and their types as well as the number of data points:"
   ]
  },
  {
   "cell_type": "code",
   "execution_count": 5,
   "metadata": {
    "scrolled": true
   },
   "outputs": [
    {
     "name": "stdout",
     "output_type": "stream",
     "text": [
      "<class 'pandas.core.frame.DataFrame'>\n",
      "RangeIndex: 99590 entries, 0 to 99589\n",
      "Data columns (total 76 columns):\n",
      " #   Column                   Non-Null Count  Dtype  \n",
      "---  ------                   --------------  -----  \n",
      " 0   case_id                  99590 non-null  int64  \n",
      " 1   accident_year            99590 non-null  int64  \n",
      " 2   proc_date                99590 non-null  int64  \n",
      " 3   juris                    99590 non-null  object \n",
      " 4   collision_date           99590 non-null  int64  \n",
      " 5   collision_time           99590 non-null  int64  \n",
      " 6   officer_id               99547 non-null  object \n",
      " 7   reporting_district       24219 non-null  object \n",
      " 8   day_of_week              99590 non-null  int64  \n",
      " 9   chp_shift                99590 non-null  int64  \n",
      " 10  population               99590 non-null  int64  \n",
      " 11  cnty_city_loc            99590 non-null  int64  \n",
      " 12  special_cond             99590 non-null  int64  \n",
      " 13  beat_type                99590 non-null  int64  \n",
      " 14  chp_beat_type            99590 non-null  object \n",
      " 15  city_division_lapd       0 non-null      float64\n",
      " 16  chp_beat_class           99590 non-null  int64  \n",
      " 17  beat_number              96201 non-null  object \n",
      " 18  primary_rd               99590 non-null  object \n",
      " 19  secondary_rd             99590 non-null  object \n",
      " 20  distance                 99590 non-null  float64\n",
      " 21  direction                78481 non-null  object \n",
      " 22  intersection             99590 non-null  object \n",
      " 23  weather_1                99590 non-null  object \n",
      " 24  weather_2                99590 non-null  object \n",
      " 25  state_hwy_ind            99580 non-null  object \n",
      " 26  caltrans_county          3716 non-null   object \n",
      " 27  caltrans_district        3716 non-null   float64\n",
      " 28  state_route              3716 non-null   float64\n",
      " 29  route_suffix             3716 non-null   object \n",
      " 30  postmile_prefix          3716 non-null   object \n",
      " 31  postmile                 3716 non-null   float64\n",
      " 32  location_type            3716 non-null   object \n",
      " 33  ramp_intersection        3716 non-null   object \n",
      " 34  side_of_hwy              3716 non-null   object \n",
      " 35  tow_away                 99155 non-null  object \n",
      " 36  collision_severity       99590 non-null  int64  \n",
      " 37  number_killed            99590 non-null  int64  \n",
      " 38  number_injured           99590 non-null  int64  \n",
      " 39  party_count              99590 non-null  int64  \n",
      " 40  primary_coll_factor      99590 non-null  object \n",
      " 41  pcf_code_of_viol         99590 non-null  object \n",
      " 42  pcf_viol_category        99590 non-null  object \n",
      " 43  pcf_violation            95943 non-null  float64\n",
      " 44  pcf_viol_subsection      35996 non-null  object \n",
      " 45  hit_and_run              99590 non-null  object \n",
      " 46  type_of_collision        99590 non-null  object \n",
      " 47  mviw                     99590 non-null  object \n",
      " 48  ped_action               99590 non-null  object \n",
      " 49  road_surface             99590 non-null  object \n",
      " 50  road_cond_1              99590 non-null  object \n",
      " 51  road_cond_2              99590 non-null  object \n",
      " 52  lighting                 99590 non-null  object \n",
      " 53  control_device           99590 non-null  object \n",
      " 54  chp_road_type            99590 non-null  int64  \n",
      " 55  pedestrian_accident      2770 non-null   object \n",
      " 56  bicycle_accident         3070 non-null   object \n",
      " 57  motorcycle_accident      2850 non-null   object \n",
      " 58  truck_accident           4531 non-null   object \n",
      " 59  not_private_property     99590 non-null  object \n",
      " 60  alcohol_involved         9055 non-null   object \n",
      " 61  stwd_vehtype_at_fault    99590 non-null  object \n",
      " 62  chp_vehtype_at_fault     97989 non-null  object \n",
      " 63  count_severe_inj         99590 non-null  int64  \n",
      " 64  count_visible_inj        99590 non-null  int64  \n",
      " 65  count_complaint_pain     99590 non-null  int64  \n",
      " 66  count_ped_killed         99590 non-null  int64  \n",
      " 67  count_ped_injured        99590 non-null  int64  \n",
      " 68  count_bicyclist_killed   99590 non-null  int64  \n",
      " 69  count_bicyclist_injured  99590 non-null  int64  \n",
      " 70  count_mc_killed          99590 non-null  int64  \n",
      " 71  count_mc_injured         99590 non-null  int64  \n",
      " 72  primary_ramp             99590 non-null  object \n",
      " 73  secondary_ramp           99590 non-null  object \n",
      " 74  latitude                 59575 non-null  float64\n",
      " 75  longitude                59575 non-null  float64\n",
      "dtypes: float64(8), int64(26), object(42)\n",
      "memory usage: 57.7+ MB\n"
     ]
    }
   ],
   "source": [
    "pd.set_option(\"max_rows\", None)\n",
    "collision_df.info()"
   ]
  },
  {
   "cell_type": "markdown",
   "metadata": {},
   "source": [
    "By domain knowledge and common sense, we know there are many of these variables that really do not affect the collision probability and severity. We need to  drop them from the dataframe. We first provide a list of the columns to copy the entries from, which is easier:"
   ]
  },
  {
   "cell_type": "code",
   "execution_count": 6,
   "metadata": {},
   "outputs": [],
   "source": [
    "collision_df = collision_df[['day_of_week', 'distance', 'intersection', 'weather_1',\n",
    "       'collision_severity', 'pcf_viol_category', 'type_of_collision',\n",
    "       'lighting', 'alcohol_involved']]"
   ]
  },
  {
   "cell_type": "markdown",
   "metadata": {},
   "source": [
    "Much better now! A few things to consider here:\n",
    "- Most of the variables of interest are categorical ones.\n",
    "- There is a data dictionary provided when you download the data. We use that data dictionary to decode all the categorical variabes.\n",
    "- We still need to clean the data before drawing any conclusion.\n",
    "\n",
    "Let's keep mooving! But first we need to determine the dtypes before defining the dictionaries."
   ]
  },
  {
   "cell_type": "code",
   "execution_count": 7,
   "metadata": {},
   "outputs": [
    {
     "data": {
      "text/plain": [
       "day_of_week             int64\n",
       "distance              float64\n",
       "intersection           object\n",
       "weather_1              object\n",
       "collision_severity      int64\n",
       "pcf_viol_category      object\n",
       "type_of_collision      object\n",
       "lighting               object\n",
       "alcohol_involved       object\n",
       "dtype: object"
      ]
     },
     "execution_count": 7,
     "metadata": {},
     "output_type": "execute_result"
    }
   ],
   "source": [
    "collision_df.dtypes"
   ]
  },
  {
   "cell_type": "markdown",
   "metadata": {},
   "source": [
    "## Data Clean-up"
   ]
  },
  {
   "cell_type": "markdown",
   "metadata": {},
   "source": [
    "As we see, there are some values in the categories that might be of no interest. Like \"-\" in the pcf (primary contributing factor) which is supposed to shed some lights on the data. We explore those \"-\"s and remove them if many of them are available. Let's see:"
   ]
  },
  {
   "cell_type": "code",
   "execution_count": 8,
   "metadata": {},
   "outputs": [
    {
     "data": {
      "text/plain": [
       "A    80122\n",
       "B    14773\n",
       "C     4138\n",
       "E      337\n",
       "-      109\n",
       "F       86\n",
       "G       15\n",
       "D       10\n",
       "Name: weather_1, dtype: int64"
      ]
     },
     "execution_count": 8,
     "metadata": {},
     "output_type": "execute_result"
    }
   ],
   "source": [
    "collision_df.weather_1.value_counts()"
   ]
  },
  {
   "cell_type": "code",
   "execution_count": 9,
   "metadata": {},
   "outputs": [
    {
     "data": {
      "text/plain": [
       "A    80122\n",
       "B    14773\n",
       "C     4138\n",
       "E      337\n",
       "F       86\n",
       "G       15\n",
       "D       10\n",
       "Name: weather_1, dtype: int64"
      ]
     },
     "execution_count": 9,
     "metadata": {},
     "output_type": "execute_result"
    }
   ],
   "source": [
    "# 109 -'s, we will remove them as they are not that many:\n",
    "\n",
    "collision_df = collision_df[collision_df.weather_1 != \"-\"]\n",
    "collision_df.weather_1.value_counts()"
   ]
  },
  {
   "cell_type": "code",
   "execution_count": 10,
   "metadata": {
    "scrolled": true
   },
   "outputs": [
    {
     "data": {
      "text/plain": [
       "3     36769\n",
       "8     16665\n",
       "9     10821\n",
       "7      8696\n",
       "1      7419\n",
       "12     6151\n",
       "21     2679\n",
       "5      1932\n",
       "0      1851\n",
       "18     1587\n",
       "11     1109\n",
       "6       802\n",
       "10      720\n",
       "4       687\n",
       "17      680\n",
       "22      462\n",
       "-       207\n",
       "16       91\n",
       "13       77\n",
       "2        50\n",
       "14       17\n",
       "15        9\n",
       "Name: pcf_viol_category, dtype: int64"
      ]
     },
     "execution_count": 10,
     "metadata": {},
     "output_type": "execute_result"
    }
   ],
   "source": [
    "collision_df.pcf_viol_category.value_counts()"
   ]
  },
  {
   "cell_type": "code",
   "execution_count": 11,
   "metadata": {
    "scrolled": true
   },
   "outputs": [
    {
     "data": {
      "text/plain": [
       "3     36769\n",
       "8     16665\n",
       "9     10821\n",
       "7      8696\n",
       "1      7419\n",
       "12     6151\n",
       "21     2679\n",
       "5      1932\n",
       "0      1851\n",
       "18     1587\n",
       "11     1109\n",
       "6       802\n",
       "10      720\n",
       "4       687\n",
       "17      680\n",
       "22      462\n",
       "16       91\n",
       "13       77\n",
       "2        50\n",
       "14       17\n",
       "15        9\n",
       "Name: pcf_viol_category, dtype: int64"
      ]
     },
     "execution_count": 11,
     "metadata": {},
     "output_type": "execute_result"
    }
   ],
   "source": [
    "# 207 -'s, not too many, we will remove those guys, too (note: by trial and error we noticed that there is an extra space after the hyphen!):\n",
    "\n",
    "collision_df = collision_df[collision_df.pcf_viol_category != \"- \"]\n",
    "collision_df.pcf_viol_category.value_counts()"
   ]
  },
  {
   "cell_type": "code",
   "execution_count": 12,
   "metadata": {},
   "outputs": [
    {
     "data": {
      "text/plain": [
       "A    67278\n",
       "C    21488\n",
       "D     6963\n",
       "B     3284\n",
       "E      146\n",
       "-      115\n",
       "Name: lighting, dtype: int64"
      ]
     },
     "execution_count": 12,
     "metadata": {},
     "output_type": "execute_result"
    }
   ],
   "source": [
    "collision_df.lighting.value_counts()"
   ]
  },
  {
   "cell_type": "code",
   "execution_count": 13,
   "metadata": {},
   "outputs": [
    {
     "data": {
      "text/plain": [
       "A    67278\n",
       "C    21488\n",
       "D     6963\n",
       "B     3284\n",
       "E      146\n",
       "Name: lighting, dtype: int64"
      ]
     },
     "execution_count": 13,
     "metadata": {},
     "output_type": "execute_result"
    }
   ],
   "source": [
    "# 115 -'s, again, not too many, let's remove them:\n",
    "\n",
    "collision_df = collision_df[collision_df.lighting != \"-\"]\n",
    "collision_df.lighting.value_counts()"
   ]
  },
  {
   "cell_type": "markdown",
   "metadata": {},
   "source": [
    "Also, we know that NaN in alcohol_involved column basically means, No. So, let's fix it."
   ]
  },
  {
   "cell_type": "code",
   "execution_count": 14,
   "metadata": {},
   "outputs": [
    {
     "data": {
      "text/html": [
       "<div>\n",
       "<style scoped>\n",
       "    .dataframe tbody tr th:only-of-type {\n",
       "        vertical-align: middle;\n",
       "    }\n",
       "\n",
       "    .dataframe tbody tr th {\n",
       "        vertical-align: top;\n",
       "    }\n",
       "\n",
       "    .dataframe thead th {\n",
       "        text-align: right;\n",
       "    }\n",
       "</style>\n",
       "<table border=\"1\" class=\"dataframe\">\n",
       "  <thead>\n",
       "    <tr style=\"text-align: right;\">\n",
       "      <th></th>\n",
       "      <th>day_of_week</th>\n",
       "      <th>distance</th>\n",
       "      <th>intersection</th>\n",
       "      <th>weather_1</th>\n",
       "      <th>collision_severity</th>\n",
       "      <th>pcf_viol_category</th>\n",
       "      <th>type_of_collision</th>\n",
       "      <th>lighting</th>\n",
       "      <th>alcohol_involved</th>\n",
       "    </tr>\n",
       "  </thead>\n",
       "  <tbody>\n",
       "    <tr>\n",
       "      <th>0</th>\n",
       "      <td>4</td>\n",
       "      <td>3590.0</td>\n",
       "      <td>N</td>\n",
       "      <td>A</td>\n",
       "      <td>1</td>\n",
       "      <td>8</td>\n",
       "      <td>E</td>\n",
       "      <td>D</td>\n",
       "      <td>No</td>\n",
       "    </tr>\n",
       "    <tr>\n",
       "      <th>1</th>\n",
       "      <td>5</td>\n",
       "      <td>52.0</td>\n",
       "      <td>N</td>\n",
       "      <td>A</td>\n",
       "      <td>1</td>\n",
       "      <td>11</td>\n",
       "      <td>G</td>\n",
       "      <td>C</td>\n",
       "      <td>Yes</td>\n",
       "    </tr>\n",
       "    <tr>\n",
       "      <th>2</th>\n",
       "      <td>1</td>\n",
       "      <td>514.0</td>\n",
       "      <td>N</td>\n",
       "      <td>A</td>\n",
       "      <td>1</td>\n",
       "      <td>1</td>\n",
       "      <td>E</td>\n",
       "      <td>C</td>\n",
       "      <td>Yes</td>\n",
       "    </tr>\n",
       "    <tr>\n",
       "      <th>4</th>\n",
       "      <td>3</td>\n",
       "      <td>67.0</td>\n",
       "      <td>N</td>\n",
       "      <td>A</td>\n",
       "      <td>1</td>\n",
       "      <td>1</td>\n",
       "      <td>E</td>\n",
       "      <td>C</td>\n",
       "      <td>Yes</td>\n",
       "    </tr>\n",
       "    <tr>\n",
       "      <th>5</th>\n",
       "      <td>3</td>\n",
       "      <td>620.0</td>\n",
       "      <td>N</td>\n",
       "      <td>A</td>\n",
       "      <td>1</td>\n",
       "      <td>0</td>\n",
       "      <td>G</td>\n",
       "      <td>D</td>\n",
       "      <td>No</td>\n",
       "    </tr>\n",
       "  </tbody>\n",
       "</table>\n",
       "</div>"
      ],
      "text/plain": [
       "   day_of_week  distance intersection weather_1  collision_severity  \\\n",
       "0            4    3590.0            N         A                   1   \n",
       "1            5      52.0            N         A                   1   \n",
       "2            1     514.0            N         A                   1   \n",
       "4            3      67.0            N         A                   1   \n",
       "5            3     620.0            N         A                   1   \n",
       "\n",
       "  pcf_viol_category type_of_collision lighting alcohol_involved  \n",
       "0                 8                 E        D               No  \n",
       "1                11                 G        C              Yes  \n",
       "2                 1                 E        C              Yes  \n",
       "4                 1                 E        C              Yes  \n",
       "5                 0                 G        D               No  "
      ]
     },
     "execution_count": 14,
     "metadata": {},
     "output_type": "execute_result"
    }
   ],
   "source": [
    "collision_df.alcohol_involved.replace({np.nan: \"No\", \"Y\": \"Yes\"}, inplace=True)\n",
    "collision_df.head()"
   ]
  },
  {
   "cell_type": "markdown",
   "metadata": {},
   "source": [
    "## Decoding Catrgorical Variables"
   ]
  },
  {
   "cell_type": "markdown",
   "metadata": {},
   "source": [
    "As the first step, we create several data dictionaries for every single categorical variable and decode the variables, here are the dictionaries:"
   ]
  },
  {
   "cell_type": "code",
   "execution_count": 15,
   "metadata": {},
   "outputs": [],
   "source": [
    "day_of_week_dic = {1: 'Monday', 2: 'Tuesday', 3: 'Wednesday', 4: 'Thursday', 5: 'Friday', 6: 'Saturday', 7: 'Sunday'}\n",
    "weather_1_dic = {'A': 'Clear', 'B': 'Cloudy', 'C': 'Raining', 'D': 'Snowing', 'E': 'Fog', 'F': 'Other', 'G': 'Wind',  '-': 'Not Stated'}\n",
    "collision_severity_dic = {1: 'Fatal', 2: 'Injury (Severe)', 3: 'Injury (Other Visible)', 4: 'Injury (Complaint of Pain)', 0: 'PDO'}\n",
    "pcf_viol_category_dic = {'1': 'Driving or Bicycling Under the Influence of Alcohol or Drug', '2': 'Impeding Traffic', '3': 'Unsafe Speed', '4': 'Following Too Closely', '5': 'Wrong Side of Road',\n",
    "                         '6': 'Improper Passing', '7': 'Unsafe Lane Change', '8': 'Improper Turning', '9': 'Automobile Right of Way', '10': 'Pedestrian Right of Way', '11': 'Pedestrian Violation',\n",
    "                         '12': 'Traffic Signals and Signs', '13': 'Hazardous Parking', '14': 'Lights', '15': 'Brakes', '16': 'Other Equipment', '17': 'Other Hazardous Violation',\n",
    "                         '18': 'Other Than Driver (or Pedestrian)', '19': 'N/A', '20': 'N/A', '21': 'Unsafe Starting or Backing', '22': 'Other Improper Driving', \n",
    "                         '23': 'Pedestrian or Other Under the Influence of Alcohol or Drug', '24': 'Fell Asleep', '0': 'Unknown', '-': 'Not Stated'}\n",
    "type_of_collision_dic = {'A': 'Head-On', 'B': 'Sideswipe', 'C': 'Rear End', 'D': 'Broadside', 'E': 'Hit Object', 'F': 'Overturned', 'G': 'Vehicle/Pedestrian', 'H': 'Other', '-' : 'Not Stated'}\n",
    "lighting_dic = {'A': 'Daylight', 'B': 'Dusk - Dawn', 'C': 'Dark - Street Lights', 'D': 'Dark - No Street Lights', 'E': 'Dark - Street Lights Not Functioning', '-': 'Not Stated'}"
   ]
  },
  {
   "cell_type": "code",
   "execution_count": 16,
   "metadata": {},
   "outputs": [
    {
     "data": {
      "text/plain": [
       "day_of_week             int64\n",
       "distance              float64\n",
       "intersection           object\n",
       "weather_1              object\n",
       "collision_severity      int64\n",
       "pcf_viol_category      object\n",
       "type_of_collision      object\n",
       "lighting               object\n",
       "alcohol_involved       object\n",
       "dtype: object"
      ]
     },
     "execution_count": 16,
     "metadata": {},
     "output_type": "execute_result"
    }
   ],
   "source": [
    "# before using the dictionaries, given that some of them map from an integer, let's make sure the variable types in the dataframe and the dictionaries are consistent:\n",
    "\n",
    "collision_df.dtypes"
   ]
  },
  {
   "cell_type": "markdown",
   "metadata": {},
   "source": [
    "Alright! Then we map the alphanumerical values of the variables to these dictionaries, like below, and create a new dataframe with the decoded variables:"
   ]
  },
  {
   "cell_type": "code",
   "execution_count": 17,
   "metadata": {},
   "outputs": [],
   "source": [
    "# cretaing a new dataframe from the original one. We would like to keep the original one:\n",
    "\n",
    "collision_dec = collision_df.copy()"
   ]
  },
  {
   "cell_type": "code",
   "execution_count": 18,
   "metadata": {},
   "outputs": [],
   "source": [
    "# given that we need to do the tasks (stripping and mapping) multiple times, it's a good practice to put them in a loop, for better readability:\n",
    "\n",
    "columns = ['day_of_week', 'weather_1', 'collision_severity', 'pcf_viol_category', 'type_of_collision', 'lighting']\n",
    "columns_dic = [day_of_week_dic, weather_1_dic, collision_severity_dic, pcf_viol_category_dic, type_of_collision_dic, lighting_dic]\n",
    "for col, dic in zip(columns, columns_dic):\n",
    "    collision_dec[col] = collision_dec[col].map(dic)"
   ]
  },
  {
   "cell_type": "markdown",
   "metadata": {},
   "source": [
    "Let's take a look at the new dataframe:"
   ]
  },
  {
   "cell_type": "code",
   "execution_count": 19,
   "metadata": {},
   "outputs": [
    {
     "data": {
      "text/html": [
       "<div>\n",
       "<style scoped>\n",
       "    .dataframe tbody tr th:only-of-type {\n",
       "        vertical-align: middle;\n",
       "    }\n",
       "\n",
       "    .dataframe tbody tr th {\n",
       "        vertical-align: top;\n",
       "    }\n",
       "\n",
       "    .dataframe thead th {\n",
       "        text-align: right;\n",
       "    }\n",
       "</style>\n",
       "<table border=\"1\" class=\"dataframe\">\n",
       "  <thead>\n",
       "    <tr style=\"text-align: right;\">\n",
       "      <th></th>\n",
       "      <th>day_of_week</th>\n",
       "      <th>distance</th>\n",
       "      <th>intersection</th>\n",
       "      <th>weather_1</th>\n",
       "      <th>collision_severity</th>\n",
       "      <th>pcf_viol_category</th>\n",
       "      <th>type_of_collision</th>\n",
       "      <th>lighting</th>\n",
       "      <th>alcohol_involved</th>\n",
       "    </tr>\n",
       "  </thead>\n",
       "  <tbody>\n",
       "    <tr>\n",
       "      <th>0</th>\n",
       "      <td>Thursday</td>\n",
       "      <td>3590.0</td>\n",
       "      <td>N</td>\n",
       "      <td>Clear</td>\n",
       "      <td>Fatal</td>\n",
       "      <td>Improper Turning</td>\n",
       "      <td>Hit Object</td>\n",
       "      <td>Dark - No Street Lights</td>\n",
       "      <td>No</td>\n",
       "    </tr>\n",
       "    <tr>\n",
       "      <th>1</th>\n",
       "      <td>Friday</td>\n",
       "      <td>52.0</td>\n",
       "      <td>N</td>\n",
       "      <td>Clear</td>\n",
       "      <td>Fatal</td>\n",
       "      <td>Pedestrian Violation</td>\n",
       "      <td>Vehicle/Pedestrian</td>\n",
       "      <td>Dark - Street Lights</td>\n",
       "      <td>Yes</td>\n",
       "    </tr>\n",
       "    <tr>\n",
       "      <th>2</th>\n",
       "      <td>Monday</td>\n",
       "      <td>514.0</td>\n",
       "      <td>N</td>\n",
       "      <td>Clear</td>\n",
       "      <td>Fatal</td>\n",
       "      <td>Driving or Bicycling Under the Influence of Al...</td>\n",
       "      <td>Hit Object</td>\n",
       "      <td>Dark - Street Lights</td>\n",
       "      <td>Yes</td>\n",
       "    </tr>\n",
       "    <tr>\n",
       "      <th>4</th>\n",
       "      <td>Wednesday</td>\n",
       "      <td>67.0</td>\n",
       "      <td>N</td>\n",
       "      <td>Clear</td>\n",
       "      <td>Fatal</td>\n",
       "      <td>Driving or Bicycling Under the Influence of Al...</td>\n",
       "      <td>Hit Object</td>\n",
       "      <td>Dark - Street Lights</td>\n",
       "      <td>Yes</td>\n",
       "    </tr>\n",
       "    <tr>\n",
       "      <th>5</th>\n",
       "      <td>Wednesday</td>\n",
       "      <td>620.0</td>\n",
       "      <td>N</td>\n",
       "      <td>Clear</td>\n",
       "      <td>Fatal</td>\n",
       "      <td>Unknown</td>\n",
       "      <td>Vehicle/Pedestrian</td>\n",
       "      <td>Dark - No Street Lights</td>\n",
       "      <td>No</td>\n",
       "    </tr>\n",
       "  </tbody>\n",
       "</table>\n",
       "</div>"
      ],
      "text/plain": [
       "  day_of_week  distance intersection weather_1 collision_severity  \\\n",
       "0    Thursday    3590.0            N     Clear              Fatal   \n",
       "1      Friday      52.0            N     Clear              Fatal   \n",
       "2      Monday     514.0            N     Clear              Fatal   \n",
       "4   Wednesday      67.0            N     Clear              Fatal   \n",
       "5   Wednesday     620.0            N     Clear              Fatal   \n",
       "\n",
       "                                   pcf_viol_category   type_of_collision  \\\n",
       "0                                   Improper Turning          Hit Object   \n",
       "1                               Pedestrian Violation  Vehicle/Pedestrian   \n",
       "2  Driving or Bicycling Under the Influence of Al...          Hit Object   \n",
       "4  Driving or Bicycling Under the Influence of Al...          Hit Object   \n",
       "5                                            Unknown  Vehicle/Pedestrian   \n",
       "\n",
       "                  lighting alcohol_involved  \n",
       "0  Dark - No Street Lights               No  \n",
       "1     Dark - Street Lights              Yes  \n",
       "2     Dark - Street Lights              Yes  \n",
       "4     Dark - Street Lights              Yes  \n",
       "5  Dark - No Street Lights               No  "
      ]
     },
     "execution_count": 19,
     "metadata": {},
     "output_type": "execute_result"
    }
   ],
   "source": [
    "collision_dec.head()"
   ]
  },
  {
   "cell_type": "markdown",
   "metadata": {},
   "source": [
    "## Feature Engineering"
   ]
  },
  {
   "cell_type": "markdown",
   "metadata": {},
   "source": [
    "Based on my previous experience working on the SWITRS datasets, I know they traditionally assign a collision to an intersection when the distance to the intersection is zero. We know that can't be true. So, we changed this parameter by specifying a coliision to be an intersection-related collision when it happens within 250 feet of an intersection (based on the Highway Safety Manual). We use the distance parameter for this purpose then we drop it."
   ]
  },
  {
   "cell_type": "code",
   "execution_count": 20,
   "metadata": {},
   "outputs": [
    {
     "data": {
      "text/html": [
       "<div>\n",
       "<style scoped>\n",
       "    .dataframe tbody tr th:only-of-type {\n",
       "        vertical-align: middle;\n",
       "    }\n",
       "\n",
       "    .dataframe tbody tr th {\n",
       "        vertical-align: top;\n",
       "    }\n",
       "\n",
       "    .dataframe thead th {\n",
       "        text-align: right;\n",
       "    }\n",
       "</style>\n",
       "<table border=\"1\" class=\"dataframe\">\n",
       "  <thead>\n",
       "    <tr style=\"text-align: right;\">\n",
       "      <th></th>\n",
       "      <th>day_of_week</th>\n",
       "      <th>intersection</th>\n",
       "      <th>weather_1</th>\n",
       "      <th>collision_severity</th>\n",
       "      <th>pcf_viol_category</th>\n",
       "      <th>type_of_collision</th>\n",
       "      <th>lighting</th>\n",
       "      <th>alcohol_involved</th>\n",
       "    </tr>\n",
       "  </thead>\n",
       "  <tbody>\n",
       "    <tr>\n",
       "      <th>0</th>\n",
       "      <td>Thursday</td>\n",
       "      <td>No</td>\n",
       "      <td>Clear</td>\n",
       "      <td>Fatal</td>\n",
       "      <td>Improper Turning</td>\n",
       "      <td>Hit Object</td>\n",
       "      <td>Dark - No Street Lights</td>\n",
       "      <td>No</td>\n",
       "    </tr>\n",
       "    <tr>\n",
       "      <th>1</th>\n",
       "      <td>Friday</td>\n",
       "      <td>Yes</td>\n",
       "      <td>Clear</td>\n",
       "      <td>Fatal</td>\n",
       "      <td>Pedestrian Violation</td>\n",
       "      <td>Vehicle/Pedestrian</td>\n",
       "      <td>Dark - Street Lights</td>\n",
       "      <td>Yes</td>\n",
       "    </tr>\n",
       "    <tr>\n",
       "      <th>2</th>\n",
       "      <td>Monday</td>\n",
       "      <td>No</td>\n",
       "      <td>Clear</td>\n",
       "      <td>Fatal</td>\n",
       "      <td>Driving or Bicycling Under the Influence of Al...</td>\n",
       "      <td>Hit Object</td>\n",
       "      <td>Dark - Street Lights</td>\n",
       "      <td>Yes</td>\n",
       "    </tr>\n",
       "    <tr>\n",
       "      <th>4</th>\n",
       "      <td>Wednesday</td>\n",
       "      <td>Yes</td>\n",
       "      <td>Clear</td>\n",
       "      <td>Fatal</td>\n",
       "      <td>Driving or Bicycling Under the Influence of Al...</td>\n",
       "      <td>Hit Object</td>\n",
       "      <td>Dark - Street Lights</td>\n",
       "      <td>Yes</td>\n",
       "    </tr>\n",
       "    <tr>\n",
       "      <th>5</th>\n",
       "      <td>Wednesday</td>\n",
       "      <td>No</td>\n",
       "      <td>Clear</td>\n",
       "      <td>Fatal</td>\n",
       "      <td>Unknown</td>\n",
       "      <td>Vehicle/Pedestrian</td>\n",
       "      <td>Dark - No Street Lights</td>\n",
       "      <td>No</td>\n",
       "    </tr>\n",
       "  </tbody>\n",
       "</table>\n",
       "</div>"
      ],
      "text/plain": [
       "  day_of_week intersection weather_1 collision_severity  \\\n",
       "0    Thursday           No     Clear              Fatal   \n",
       "1      Friday          Yes     Clear              Fatal   \n",
       "2      Monday           No     Clear              Fatal   \n",
       "4   Wednesday          Yes     Clear              Fatal   \n",
       "5   Wednesday           No     Clear              Fatal   \n",
       "\n",
       "                                   pcf_viol_category   type_of_collision  \\\n",
       "0                                   Improper Turning          Hit Object   \n",
       "1                               Pedestrian Violation  Vehicle/Pedestrian   \n",
       "2  Driving or Bicycling Under the Influence of Al...          Hit Object   \n",
       "4  Driving or Bicycling Under the Influence of Al...          Hit Object   \n",
       "5                                            Unknown  Vehicle/Pedestrian   \n",
       "\n",
       "                  lighting alcohol_involved  \n",
       "0  Dark - No Street Lights               No  \n",
       "1     Dark - Street Lights              Yes  \n",
       "2     Dark - Street Lights              Yes  \n",
       "4     Dark - Street Lights              Yes  \n",
       "5  Dark - No Street Lights               No  "
      ]
     },
     "execution_count": 20,
     "metadata": {},
     "output_type": "execute_result"
    }
   ],
   "source": [
    "collision_dec.intersection = collision_dec['distance'].apply(lambda x: 'Yes' if x <= 250 else 'No')\n",
    "collision_dec.drop(columns='distance', inplace=True)\n",
    "collision_dec.head()"
   ]
  },
  {
   "cell_type": "markdown",
   "metadata": {},
   "source": [
    "Also, as mentioned in the problem statement, we would like to see how various factors affect the severity of the collisions. For this we specify two groups of severity outcome, one is \"PDO\" and the other is \"Non-PDO\", with the latter containing all injury and fatal collisions. Here is how we do that:"
   ]
  },
  {
   "cell_type": "code",
   "execution_count": 21,
   "metadata": {},
   "outputs": [
    {
     "data": {
      "text/html": [
       "<div>\n",
       "<style scoped>\n",
       "    .dataframe tbody tr th:only-of-type {\n",
       "        vertical-align: middle;\n",
       "    }\n",
       "\n",
       "    .dataframe tbody tr th {\n",
       "        vertical-align: top;\n",
       "    }\n",
       "\n",
       "    .dataframe thead th {\n",
       "        text-align: right;\n",
       "    }\n",
       "</style>\n",
       "<table border=\"1\" class=\"dataframe\">\n",
       "  <thead>\n",
       "    <tr style=\"text-align: right;\">\n",
       "      <th></th>\n",
       "      <th>day_of_week</th>\n",
       "      <th>intersection</th>\n",
       "      <th>weather_1</th>\n",
       "      <th>collision_severity</th>\n",
       "      <th>pcf_viol_category</th>\n",
       "      <th>type_of_collision</th>\n",
       "      <th>lighting</th>\n",
       "      <th>alcohol_involved</th>\n",
       "      <th>severity</th>\n",
       "    </tr>\n",
       "  </thead>\n",
       "  <tbody>\n",
       "    <tr>\n",
       "      <th>0</th>\n",
       "      <td>Thursday</td>\n",
       "      <td>No</td>\n",
       "      <td>Clear</td>\n",
       "      <td>Fatal</td>\n",
       "      <td>Improper Turning</td>\n",
       "      <td>Hit Object</td>\n",
       "      <td>Dark - No Street Lights</td>\n",
       "      <td>No</td>\n",
       "      <td>Non-PDO</td>\n",
       "    </tr>\n",
       "    <tr>\n",
       "      <th>1</th>\n",
       "      <td>Friday</td>\n",
       "      <td>Yes</td>\n",
       "      <td>Clear</td>\n",
       "      <td>Fatal</td>\n",
       "      <td>Pedestrian Violation</td>\n",
       "      <td>Vehicle/Pedestrian</td>\n",
       "      <td>Dark - Street Lights</td>\n",
       "      <td>Yes</td>\n",
       "      <td>Non-PDO</td>\n",
       "    </tr>\n",
       "    <tr>\n",
       "      <th>2</th>\n",
       "      <td>Monday</td>\n",
       "      <td>No</td>\n",
       "      <td>Clear</td>\n",
       "      <td>Fatal</td>\n",
       "      <td>Driving or Bicycling Under the Influence of Al...</td>\n",
       "      <td>Hit Object</td>\n",
       "      <td>Dark - Street Lights</td>\n",
       "      <td>Yes</td>\n",
       "      <td>Non-PDO</td>\n",
       "    </tr>\n",
       "    <tr>\n",
       "      <th>4</th>\n",
       "      <td>Wednesday</td>\n",
       "      <td>Yes</td>\n",
       "      <td>Clear</td>\n",
       "      <td>Fatal</td>\n",
       "      <td>Driving or Bicycling Under the Influence of Al...</td>\n",
       "      <td>Hit Object</td>\n",
       "      <td>Dark - Street Lights</td>\n",
       "      <td>Yes</td>\n",
       "      <td>Non-PDO</td>\n",
       "    </tr>\n",
       "    <tr>\n",
       "      <th>5</th>\n",
       "      <td>Wednesday</td>\n",
       "      <td>No</td>\n",
       "      <td>Clear</td>\n",
       "      <td>Fatal</td>\n",
       "      <td>Unknown</td>\n",
       "      <td>Vehicle/Pedestrian</td>\n",
       "      <td>Dark - No Street Lights</td>\n",
       "      <td>No</td>\n",
       "      <td>Non-PDO</td>\n",
       "    </tr>\n",
       "  </tbody>\n",
       "</table>\n",
       "</div>"
      ],
      "text/plain": [
       "  day_of_week intersection weather_1 collision_severity  \\\n",
       "0    Thursday           No     Clear              Fatal   \n",
       "1      Friday          Yes     Clear              Fatal   \n",
       "2      Monday           No     Clear              Fatal   \n",
       "4   Wednesday          Yes     Clear              Fatal   \n",
       "5   Wednesday           No     Clear              Fatal   \n",
       "\n",
       "                                   pcf_viol_category   type_of_collision  \\\n",
       "0                                   Improper Turning          Hit Object   \n",
       "1                               Pedestrian Violation  Vehicle/Pedestrian   \n",
       "2  Driving or Bicycling Under the Influence of Al...          Hit Object   \n",
       "4  Driving or Bicycling Under the Influence of Al...          Hit Object   \n",
       "5                                            Unknown  Vehicle/Pedestrian   \n",
       "\n",
       "                  lighting alcohol_involved severity  \n",
       "0  Dark - No Street Lights               No  Non-PDO  \n",
       "1     Dark - Street Lights              Yes  Non-PDO  \n",
       "2     Dark - Street Lights              Yes  Non-PDO  \n",
       "4     Dark - Street Lights              Yes  Non-PDO  \n",
       "5  Dark - No Street Lights               No  Non-PDO  "
      ]
     },
     "execution_count": 21,
     "metadata": {},
     "output_type": "execute_result"
    }
   ],
   "source": [
    "collision_dec['severity'] = collision_dec['collision_severity'].apply(lambda x: \"PDO\" if x == \"PDO\" else \"Non-PDO\")\n",
    "collision_dec.head()"
   ]
  },
  {
   "cell_type": "code",
   "execution_count": 22,
   "metadata": {},
   "outputs": [
    {
     "data": {
      "text/plain": [
       "PDO        57040\n",
       "Non-PDO    42119\n",
       "Name: severity, dtype: int64"
      ]
     },
     "execution_count": 22,
     "metadata": {},
     "output_type": "execute_result"
    }
   ],
   "source": [
    "# let's see how many data points exists under each category:\n",
    "\n",
    "collision_dec.severity.value_counts()"
   ]
  },
  {
   "cell_type": "markdown",
   "metadata": {},
   "source": [
    "## Final Feature Clean-up"
   ]
  },
  {
   "cell_type": "markdown",
   "metadata": {},
   "source": [
    "There are still a few steps to be taken to make the data ready for the next step, which is Exploratory Data Analysis (EDA). First, we need to see if any of the categories under each variable are essentially the same, so they need to be combined. Also, as part of the pre-processing, we need to convert categorical variables into 0-1 values. That being said, there are several categories under various features, that do not have many observations. It's a good practice to combine low-observation categories under each variable into one category, called something like \"other\". There is no cut-off threshold for this purpose, mostly based on the domain experience and engineering judgement. Below, we apply these two steps to the categorcal variables."
   ]
  },
  {
   "cell_type": "markdown",
   "metadata": {},
   "source": [
    "### Day of Week"
   ]
  },
  {
   "cell_type": "markdown",
   "metadata": {},
   "source": [
    "We just seggregate them dat of week into two groups: Weekend and Weekday"
   ]
  },
  {
   "cell_type": "code",
   "execution_count": 23,
   "metadata": {},
   "outputs": [],
   "source": [
    "collision_dec['day'] = collision_dec.day_of_week.apply(lambda x: 'Weekend' if x in ['Saturday', 'Sunday'] else 'Weekday')"
   ]
  },
  {
   "cell_type": "code",
   "execution_count": 24,
   "metadata": {},
   "outputs": [
    {
     "data": {
      "text/plain": [
       "Weekday    76174\n",
       "Weekend    22985\n",
       "Name: day, dtype: int64"
      ]
     },
     "execution_count": 24,
     "metadata": {},
     "output_type": "execute_result"
    }
   ],
   "source": [
    "collision_dec.day.value_counts()"
   ]
  },
  {
   "cell_type": "markdown",
   "metadata": {},
   "source": [
    "### Weather"
   ]
  },
  {
   "cell_type": "code",
   "execution_count": 25,
   "metadata": {},
   "outputs": [
    {
     "data": {
      "text/plain": [
       "Clear      79849\n",
       "Cloudy     14749\n",
       "Raining     4120\n",
       "Fog          335\n",
       "Other         81\n",
       "Wind          15\n",
       "Snowing       10\n",
       "Name: weather_1, dtype: int64"
      ]
     },
     "execution_count": 25,
     "metadata": {},
     "output_type": "execute_result"
    }
   ],
   "source": [
    "collision_dec.weather_1.value_counts()"
   ]
  },
  {
   "cell_type": "markdown",
   "metadata": {},
   "source": [
    "For weather, this is what I did:\n",
    "- Combine clear and cloudy as they are essentially the same (think this way, there should be no difference in the probability of a different injury severity if the weather is cloudy).\n",
    "- Combine raining and snowing and make a new category called Precipitation\n",
    "- Combine other categories into Other."
   ]
  },
  {
   "cell_type": "code",
   "execution_count": 26,
   "metadata": {},
   "outputs": [],
   "source": [
    "collision_dec['weather'] = collision_dec.weather_1.apply(lambda x: \"Clear/Cloudy\" if x in ['Clear', 'Cloudy'] else \"Precipitation\" if x in ['Raining', 'Snowing'] else \"Other\")\n",
    "\n",
    "# we could alternatively use the following:\n",
    "# collision_dec['weather'] = pd.Series([\"Clear/Cloudy\" if x in ['Clear', 'Cloudy'] else \"Precipitation\" if x in ['Raining', 'Snowing'] else \"Other\" for x in collision_dec.weather_1])"
   ]
  },
  {
   "cell_type": "code",
   "execution_count": 27,
   "metadata": {},
   "outputs": [
    {
     "data": {
      "text/plain": [
       "Clear/Cloudy     94598\n",
       "Precipitation     4130\n",
       "Other              431\n",
       "Name: weather, dtype: int64"
      ]
     },
     "execution_count": 27,
     "metadata": {},
     "output_type": "execute_result"
    }
   ],
   "source": [
    "collision_dec.weather.value_counts()"
   ]
  },
  {
   "cell_type": "markdown",
   "metadata": {},
   "source": [
    "### Primary Contributing Factor"
   ]
  },
  {
   "cell_type": "code",
   "execution_count": 28,
   "metadata": {},
   "outputs": [
    {
     "data": {
      "text/plain": [
       "Unsafe Speed                                                   36739\n",
       "Improper Turning                                               16645\n",
       "Automobile Right of Way                                        10807\n",
       "Unsafe Lane Change                                              8690\n",
       "Driving or Bicycling Under the Influence of Alcohol or Drug     7407\n",
       "Traffic Signals and Signs                                       6140\n",
       "Unsafe Starting or Backing                                      2678\n",
       "Wrong Side of Road                                              1929\n",
       "Unknown                                                         1842\n",
       "Other Than Driver (or Pedestrian)                               1587\n",
       "Pedestrian Violation                                            1106\n",
       "Improper Passing                                                 802\n",
       "Pedestrian Right of Way                                          717\n",
       "Following Too Closely                                            687\n",
       "Other Hazardous Violation                                        678\n",
       "Other Improper Driving                                           461\n",
       "Other Equipment                                                   91\n",
       "Hazardous Parking                                                 77\n",
       "Impeding Traffic                                                  50\n",
       "Lights                                                            17\n",
       "Brakes                                                             9\n",
       "Name: pcf_viol_category, dtype: int64"
      ]
     },
     "execution_count": 28,
     "metadata": {},
     "output_type": "execute_result"
    }
   ],
   "source": [
    "collision_dec.pcf_viol_category.value_counts()"
   ]
  },
  {
   "cell_type": "markdown",
   "metadata": {},
   "source": [
    "- We combine several categories into the Other category:\n",
    "['Unknown','Other Hazardous Violation','Impeding Traffic', 'Other Than Driver (or Pedestrian)', 'Other Equipment', 'Other Improper Driving', 'Brakes', 'Lights', 'Hazardous Parking']\n",
    "\n",
    "- Also, we combine the following two into \"Pedestrian Collision\" category: ['Pedestrian Right of Way', 'Pedestrian Violation']"
   ]
  },
  {
   "cell_type": "code",
   "execution_count": 29,
   "metadata": {},
   "outputs": [],
   "source": [
    "collision_dec['primary_cont_fact'] = collision_dec.pcf_viol_category.apply(lambda x: 'Other' if x in ['Unknown','Other Hazardous Violation','Impeding Traffic',\n",
    "    'Other Than Driver (or Pedestrian)', 'Other Equipment', 'Other Improper Driving', 'Brakes', 'Lights', 'Hazardous Parking']\n",
    "    else 'Pedestrian Collision' if x in ['Pedestrian Right of Way', 'Pedestrian Violation'] else x)"
   ]
  },
  {
   "cell_type": "code",
   "execution_count": 30,
   "metadata": {},
   "outputs": [
    {
     "data": {
      "text/plain": [
       "Unsafe Speed                                                   36739\n",
       "Improper Turning                                               16645\n",
       "Automobile Right of Way                                        10807\n",
       "Unsafe Lane Change                                              8690\n",
       "Driving or Bicycling Under the Influence of Alcohol or Drug     7407\n",
       "Traffic Signals and Signs                                       6140\n",
       "Other                                                           4812\n",
       "Unsafe Starting or Backing                                      2678\n",
       "Wrong Side of Road                                              1929\n",
       "Pedestrian Collision                                            1823\n",
       "Improper Passing                                                 802\n",
       "Following Too Closely                                            687\n",
       "Name: primary_cont_fact, dtype: int64"
      ]
     },
     "execution_count": 30,
     "metadata": {},
     "output_type": "execute_result"
    }
   ],
   "source": [
    "collision_dec.primary_cont_fact.value_counts()"
   ]
  },
  {
   "cell_type": "markdown",
   "metadata": {},
   "source": [
    "### Type of Collision"
   ]
  },
  {
   "cell_type": "code",
   "execution_count": 31,
   "metadata": {},
   "outputs": [
    {
     "data": {
      "text/plain": [
       "Rear End              37775\n",
       "Broadside             19171\n",
       "Sideswipe             16663\n",
       "Hit Object            14722\n",
       "Head-On                3823\n",
       "Vehicle/Pedestrian     2437\n",
       "Other                  2376\n",
       "Overturned             1614\n",
       "Not Stated              578\n",
       "Name: type_of_collision, dtype: int64"
      ]
     },
     "execution_count": 31,
     "metadata": {},
     "output_type": "execute_result"
    }
   ],
   "source": [
    "collision_dec.type_of_collision.value_counts()"
   ]
  },
  {
   "cell_type": "markdown",
   "metadata": {},
   "source": [
    "For this variable, we just combine \"Other\" and \"Not Stated\" into the \"Other\" category:"
   ]
  },
  {
   "cell_type": "code",
   "execution_count": 32,
   "metadata": {},
   "outputs": [],
   "source": [
    "collision_dec['collision_type'] = collision_dec.type_of_collision.apply(lambda x: 'Other' if x in ['Other', 'Not Stated'] else x)"
   ]
  },
  {
   "cell_type": "code",
   "execution_count": 33,
   "metadata": {},
   "outputs": [
    {
     "data": {
      "text/plain": [
       "Rear End              37775\n",
       "Broadside             19171\n",
       "Sideswipe             16663\n",
       "Hit Object            14722\n",
       "Head-On                3823\n",
       "Other                  2954\n",
       "Vehicle/Pedestrian     2437\n",
       "Overturned             1614\n",
       "Name: collision_type, dtype: int64"
      ]
     },
     "execution_count": 33,
     "metadata": {},
     "output_type": "execute_result"
    }
   ],
   "source": [
    "collision_dec.collision_type.value_counts()"
   ]
  },
  {
   "cell_type": "markdown",
   "metadata": {},
   "source": [
    "### Lighting"
   ]
  },
  {
   "cell_type": "code",
   "execution_count": 34,
   "metadata": {},
   "outputs": [
    {
     "data": {
      "text/plain": [
       "Daylight                                67278\n",
       "Dark - Street Lights                    21488\n",
       "Dark - No Street Lights                  6963\n",
       "Dusk - Dawn                              3284\n",
       "Dark - Street Lights Not Functioning      146\n",
       "Name: lighting, dtype: int64"
      ]
     },
     "execution_count": 34,
     "metadata": {},
     "output_type": "execute_result"
    }
   ],
   "source": [
    "collision_dec.lighting.value_counts()"
   ]
  },
  {
   "cell_type": "markdown",
   "metadata": {},
   "source": [
    "For lighting, we just combine the two variables ['Dark - No Street Lights', 'Dark - Street Lights Not Functioning'] into 'Dark - No Light', as they both are technically the same."
   ]
  },
  {
   "cell_type": "code",
   "execution_count": 35,
   "metadata": {},
   "outputs": [],
   "source": [
    "collision_dec['light'] = collision_dec.lighting.apply(lambda x: 'Dark - No Light' if x in ['Dark - No Street Lights', 'Dark - Street Lights Not Functioning'] else x)"
   ]
  },
  {
   "cell_type": "code",
   "execution_count": 36,
   "metadata": {},
   "outputs": [
    {
     "data": {
      "text/plain": [
       "Daylight                67278\n",
       "Dark - Street Lights    21488\n",
       "Dark - No Light          7109\n",
       "Dusk - Dawn              3284\n",
       "Name: light, dtype: int64"
      ]
     },
     "execution_count": 36,
     "metadata": {},
     "output_type": "execute_result"
    }
   ],
   "source": [
    "collision_dec.light.value_counts()"
   ]
  },
  {
   "cell_type": "markdown",
   "metadata": {},
   "source": [
    "## Removing Non-required Columns"
   ]
  },
  {
   "cell_type": "markdown",
   "metadata": {},
   "source": [
    "As you noticed, we created several additional columns from old ones during the feature engineering process, let's drop them:"
   ]
  },
  {
   "cell_type": "code",
   "execution_count": 37,
   "metadata": {},
   "outputs": [
    {
     "data": {
      "text/html": [
       "<div>\n",
       "<style scoped>\n",
       "    .dataframe tbody tr th:only-of-type {\n",
       "        vertical-align: middle;\n",
       "    }\n",
       "\n",
       "    .dataframe tbody tr th {\n",
       "        vertical-align: top;\n",
       "    }\n",
       "\n",
       "    .dataframe thead th {\n",
       "        text-align: right;\n",
       "    }\n",
       "</style>\n",
       "<table border=\"1\" class=\"dataframe\">\n",
       "  <thead>\n",
       "    <tr style=\"text-align: right;\">\n",
       "      <th></th>\n",
       "      <th>day_of_week</th>\n",
       "      <th>intersection</th>\n",
       "      <th>weather_1</th>\n",
       "      <th>collision_severity</th>\n",
       "      <th>pcf_viol_category</th>\n",
       "      <th>type_of_collision</th>\n",
       "      <th>lighting</th>\n",
       "      <th>alcohol_involved</th>\n",
       "      <th>severity</th>\n",
       "      <th>day</th>\n",
       "      <th>weather</th>\n",
       "      <th>primary_cont_fact</th>\n",
       "      <th>collision_type</th>\n",
       "      <th>light</th>\n",
       "    </tr>\n",
       "  </thead>\n",
       "  <tbody>\n",
       "    <tr>\n",
       "      <th>0</th>\n",
       "      <td>Thursday</td>\n",
       "      <td>No</td>\n",
       "      <td>Clear</td>\n",
       "      <td>Fatal</td>\n",
       "      <td>Improper Turning</td>\n",
       "      <td>Hit Object</td>\n",
       "      <td>Dark - No Street Lights</td>\n",
       "      <td>No</td>\n",
       "      <td>Non-PDO</td>\n",
       "      <td>Weekday</td>\n",
       "      <td>Clear/Cloudy</td>\n",
       "      <td>Improper Turning</td>\n",
       "      <td>Hit Object</td>\n",
       "      <td>Dark - No Light</td>\n",
       "    </tr>\n",
       "    <tr>\n",
       "      <th>1</th>\n",
       "      <td>Friday</td>\n",
       "      <td>Yes</td>\n",
       "      <td>Clear</td>\n",
       "      <td>Fatal</td>\n",
       "      <td>Pedestrian Violation</td>\n",
       "      <td>Vehicle/Pedestrian</td>\n",
       "      <td>Dark - Street Lights</td>\n",
       "      <td>Yes</td>\n",
       "      <td>Non-PDO</td>\n",
       "      <td>Weekday</td>\n",
       "      <td>Clear/Cloudy</td>\n",
       "      <td>Pedestrian Collision</td>\n",
       "      <td>Vehicle/Pedestrian</td>\n",
       "      <td>Dark - Street Lights</td>\n",
       "    </tr>\n",
       "    <tr>\n",
       "      <th>2</th>\n",
       "      <td>Monday</td>\n",
       "      <td>No</td>\n",
       "      <td>Clear</td>\n",
       "      <td>Fatal</td>\n",
       "      <td>Driving or Bicycling Under the Influence of Al...</td>\n",
       "      <td>Hit Object</td>\n",
       "      <td>Dark - Street Lights</td>\n",
       "      <td>Yes</td>\n",
       "      <td>Non-PDO</td>\n",
       "      <td>Weekday</td>\n",
       "      <td>Clear/Cloudy</td>\n",
       "      <td>Driving or Bicycling Under the Influence of Al...</td>\n",
       "      <td>Hit Object</td>\n",
       "      <td>Dark - Street Lights</td>\n",
       "    </tr>\n",
       "    <tr>\n",
       "      <th>4</th>\n",
       "      <td>Wednesday</td>\n",
       "      <td>Yes</td>\n",
       "      <td>Clear</td>\n",
       "      <td>Fatal</td>\n",
       "      <td>Driving or Bicycling Under the Influence of Al...</td>\n",
       "      <td>Hit Object</td>\n",
       "      <td>Dark - Street Lights</td>\n",
       "      <td>Yes</td>\n",
       "      <td>Non-PDO</td>\n",
       "      <td>Weekday</td>\n",
       "      <td>Clear/Cloudy</td>\n",
       "      <td>Driving or Bicycling Under the Influence of Al...</td>\n",
       "      <td>Hit Object</td>\n",
       "      <td>Dark - Street Lights</td>\n",
       "    </tr>\n",
       "    <tr>\n",
       "      <th>5</th>\n",
       "      <td>Wednesday</td>\n",
       "      <td>No</td>\n",
       "      <td>Clear</td>\n",
       "      <td>Fatal</td>\n",
       "      <td>Unknown</td>\n",
       "      <td>Vehicle/Pedestrian</td>\n",
       "      <td>Dark - No Street Lights</td>\n",
       "      <td>No</td>\n",
       "      <td>Non-PDO</td>\n",
       "      <td>Weekday</td>\n",
       "      <td>Clear/Cloudy</td>\n",
       "      <td>Other</td>\n",
       "      <td>Vehicle/Pedestrian</td>\n",
       "      <td>Dark - No Light</td>\n",
       "    </tr>\n",
       "  </tbody>\n",
       "</table>\n",
       "</div>"
      ],
      "text/plain": [
       "  day_of_week intersection weather_1 collision_severity  \\\n",
       "0    Thursday           No     Clear              Fatal   \n",
       "1      Friday          Yes     Clear              Fatal   \n",
       "2      Monday           No     Clear              Fatal   \n",
       "4   Wednesday          Yes     Clear              Fatal   \n",
       "5   Wednesday           No     Clear              Fatal   \n",
       "\n",
       "                                   pcf_viol_category   type_of_collision  \\\n",
       "0                                   Improper Turning          Hit Object   \n",
       "1                               Pedestrian Violation  Vehicle/Pedestrian   \n",
       "2  Driving or Bicycling Under the Influence of Al...          Hit Object   \n",
       "4  Driving or Bicycling Under the Influence of Al...          Hit Object   \n",
       "5                                            Unknown  Vehicle/Pedestrian   \n",
       "\n",
       "                  lighting alcohol_involved severity      day       weather  \\\n",
       "0  Dark - No Street Lights               No  Non-PDO  Weekday  Clear/Cloudy   \n",
       "1     Dark - Street Lights              Yes  Non-PDO  Weekday  Clear/Cloudy   \n",
       "2     Dark - Street Lights              Yes  Non-PDO  Weekday  Clear/Cloudy   \n",
       "4     Dark - Street Lights              Yes  Non-PDO  Weekday  Clear/Cloudy   \n",
       "5  Dark - No Street Lights               No  Non-PDO  Weekday  Clear/Cloudy   \n",
       "\n",
       "                                   primary_cont_fact      collision_type  \\\n",
       "0                                   Improper Turning          Hit Object   \n",
       "1                               Pedestrian Collision  Vehicle/Pedestrian   \n",
       "2  Driving or Bicycling Under the Influence of Al...          Hit Object   \n",
       "4  Driving or Bicycling Under the Influence of Al...          Hit Object   \n",
       "5                                              Other  Vehicle/Pedestrian   \n",
       "\n",
       "                  light  \n",
       "0       Dark - No Light  \n",
       "1  Dark - Street Lights  \n",
       "2  Dark - Street Lights  \n",
       "4  Dark - Street Lights  \n",
       "5       Dark - No Light  "
      ]
     },
     "execution_count": 37,
     "metadata": {},
     "output_type": "execute_result"
    }
   ],
   "source": [
    "collision_dec.head()"
   ]
  },
  {
   "cell_type": "code",
   "execution_count": 38,
   "metadata": {},
   "outputs": [
    {
     "data": {
      "text/html": [
       "<div>\n",
       "<style scoped>\n",
       "    .dataframe tbody tr th:only-of-type {\n",
       "        vertical-align: middle;\n",
       "    }\n",
       "\n",
       "    .dataframe tbody tr th {\n",
       "        vertical-align: top;\n",
       "    }\n",
       "\n",
       "    .dataframe thead th {\n",
       "        text-align: right;\n",
       "    }\n",
       "</style>\n",
       "<table border=\"1\" class=\"dataframe\">\n",
       "  <thead>\n",
       "    <tr style=\"text-align: right;\">\n",
       "      <th></th>\n",
       "      <th>intersection</th>\n",
       "      <th>alcohol_involved</th>\n",
       "      <th>severity</th>\n",
       "      <th>day</th>\n",
       "      <th>weather</th>\n",
       "      <th>primary_cont_fact</th>\n",
       "      <th>collision_type</th>\n",
       "      <th>light</th>\n",
       "    </tr>\n",
       "  </thead>\n",
       "  <tbody>\n",
       "    <tr>\n",
       "      <th>0</th>\n",
       "      <td>No</td>\n",
       "      <td>No</td>\n",
       "      <td>Non-PDO</td>\n",
       "      <td>Weekday</td>\n",
       "      <td>Clear/Cloudy</td>\n",
       "      <td>Improper Turning</td>\n",
       "      <td>Hit Object</td>\n",
       "      <td>Dark - No Light</td>\n",
       "    </tr>\n",
       "    <tr>\n",
       "      <th>1</th>\n",
       "      <td>Yes</td>\n",
       "      <td>Yes</td>\n",
       "      <td>Non-PDO</td>\n",
       "      <td>Weekday</td>\n",
       "      <td>Clear/Cloudy</td>\n",
       "      <td>Pedestrian Collision</td>\n",
       "      <td>Vehicle/Pedestrian</td>\n",
       "      <td>Dark - Street Lights</td>\n",
       "    </tr>\n",
       "    <tr>\n",
       "      <th>2</th>\n",
       "      <td>No</td>\n",
       "      <td>Yes</td>\n",
       "      <td>Non-PDO</td>\n",
       "      <td>Weekday</td>\n",
       "      <td>Clear/Cloudy</td>\n",
       "      <td>Driving or Bicycling Under the Influence of Al...</td>\n",
       "      <td>Hit Object</td>\n",
       "      <td>Dark - Street Lights</td>\n",
       "    </tr>\n",
       "    <tr>\n",
       "      <th>4</th>\n",
       "      <td>Yes</td>\n",
       "      <td>Yes</td>\n",
       "      <td>Non-PDO</td>\n",
       "      <td>Weekday</td>\n",
       "      <td>Clear/Cloudy</td>\n",
       "      <td>Driving or Bicycling Under the Influence of Al...</td>\n",
       "      <td>Hit Object</td>\n",
       "      <td>Dark - Street Lights</td>\n",
       "    </tr>\n",
       "    <tr>\n",
       "      <th>5</th>\n",
       "      <td>No</td>\n",
       "      <td>No</td>\n",
       "      <td>Non-PDO</td>\n",
       "      <td>Weekday</td>\n",
       "      <td>Clear/Cloudy</td>\n",
       "      <td>Other</td>\n",
       "      <td>Vehicle/Pedestrian</td>\n",
       "      <td>Dark - No Light</td>\n",
       "    </tr>\n",
       "  </tbody>\n",
       "</table>\n",
       "</div>"
      ],
      "text/plain": [
       "  intersection alcohol_involved severity      day       weather  \\\n",
       "0           No               No  Non-PDO  Weekday  Clear/Cloudy   \n",
       "1          Yes              Yes  Non-PDO  Weekday  Clear/Cloudy   \n",
       "2           No              Yes  Non-PDO  Weekday  Clear/Cloudy   \n",
       "4          Yes              Yes  Non-PDO  Weekday  Clear/Cloudy   \n",
       "5           No               No  Non-PDO  Weekday  Clear/Cloudy   \n",
       "\n",
       "                                   primary_cont_fact      collision_type  \\\n",
       "0                                   Improper Turning          Hit Object   \n",
       "1                               Pedestrian Collision  Vehicle/Pedestrian   \n",
       "2  Driving or Bicycling Under the Influence of Al...          Hit Object   \n",
       "4  Driving or Bicycling Under the Influence of Al...          Hit Object   \n",
       "5                                              Other  Vehicle/Pedestrian   \n",
       "\n",
       "                  light  \n",
       "0       Dark - No Light  \n",
       "1  Dark - Street Lights  \n",
       "2  Dark - Street Lights  \n",
       "4  Dark - Street Lights  \n",
       "5       Dark - No Light  "
      ]
     },
     "execution_count": 38,
     "metadata": {},
     "output_type": "execute_result"
    }
   ],
   "source": [
    "collision_dec.drop(columns=['day_of_week', 'weather_1', 'collision_severity', 'pcf_viol_category', 'type_of_collision','lighting'], inplace=True)\n",
    "collision_dec.head()"
   ]
  },
  {
   "cell_type": "markdown",
   "metadata": {},
   "source": [
    "## Exploratory Data Analysis (EDA)"
   ]
  },
  {
   "cell_type": "markdown",
   "metadata": {},
   "source": [
    "OK...the most fun part! We need to get a better understanding of the data, like the big picture. We mainly do so using visualization. Let's keep moving..."
   ]
  },
  {
   "cell_type": "markdown",
   "metadata": {},
   "source": [
    "We use crosstab to see if there is any visible correlation between the categorical variables and the dependent variable (here, severity):"
   ]
  },
  {
   "cell_type": "markdown",
   "metadata": {},
   "source": [
    "### Intersection"
   ]
  },
  {
   "cell_type": "markdown",
   "metadata": {},
   "source": [
    "It seems collisions that happened at intersections do show some variations in collision severity. Collisions at intersections seem to be slightly more severe than those that happened at segments.\t"
   ]
  },
  {
   "cell_type": "code",
   "execution_count": 39,
   "metadata": {},
   "outputs": [
    {
     "data": {
      "text/plain": [
       "<matplotlib.axes._subplots.AxesSubplot at 0x1fbc9fa3148>"
      ]
     },
     "execution_count": 39,
     "metadata": {},
     "output_type": "execute_result"
    },
    {
     "data": {
      "image/png": "[encoded data removed]",
      "text/plain": [
       "<Figure size 432x288 with 1 Axes>"
      ]
     },
     "metadata": {},
     "output_type": "display_data"
    }
   ],
   "source": [
    "pd.crosstab(collision_dec.intersection, collision_dec.severity).plot(kind='bar')"
   ]
  },
  {
   "cell_type": "markdown",
   "metadata": {},
   "source": [
    "### Alcohol Involved"
   ]
  },
  {
   "cell_type": "markdown",
   "metadata": {},
   "source": [
    "As we can see from the chart above, alcohol involvement seems to affect the severity of collisions. Collisions with alcohol involvement tend to be more severe than those with no alcohol involvement."
   ]
  },
  {
   "cell_type": "code",
   "execution_count": 40,
   "metadata": {},
   "outputs": [
    {
     "data": {
      "text/plain": [
       "<matplotlib.axes._subplots.AxesSubplot at 0x1fbcbf95348>"
      ]
     },
     "execution_count": 40,
     "metadata": {},
     "output_type": "execute_result"
    },
    {
     "data": {
      "image/png": "[encoded data removed]",
      "text/plain": [
       "<Figure size 432x288 with 1 Axes>"
      ]
     },
     "metadata": {},
     "output_type": "display_data"
    }
   ],
   "source": [
    "pd.crosstab(collision_dec.alcohol_involved, collision_dec.severity).plot(kind='bar')"
   ]
  },
  {
   "cell_type": "markdown",
   "metadata": {},
   "source": [
    "### Day"
   ]
  },
  {
   "cell_type": "markdown",
   "metadata": {},
   "source": [
    "Based on the figure below, collisions that happened during the weekend seem to be of higher severity."
   ]
  },
  {
   "cell_type": "code",
   "execution_count": 41,
   "metadata": {},
   "outputs": [
    {
     "data": {
      "text/plain": [
       "<matplotlib.axes._subplots.AxesSubplot at 0x1fbc9e74dc8>"
      ]
     },
     "execution_count": 41,
     "metadata": {},
     "output_type": "execute_result"
    },
    {
     "data": {
      "image/png": "[encoded data removed]",
      "text/plain": [
       "<Figure size 432x288 with 1 Axes>"
      ]
     },
     "metadata": {},
     "output_type": "display_data"
    }
   ],
   "source": [
    "pd.crosstab(collision_dec.day, collision_dec.severity).plot(kind='bar')"
   ]
  },
  {
   "cell_type": "markdown",
   "metadata": {},
   "source": [
    "### Weather"
   ]
  },
  {
   "cell_type": "markdown",
   "metadata": {},
   "source": [
    "It is not clear based on the figure below to claim weather can affect the injury severity. However, historically the weather has played a role in affecting the injury severity, so we will keep it until we investigate it through our models."
   ]
  },
  {
   "cell_type": "code",
   "execution_count": 42,
   "metadata": {},
   "outputs": [
    {
     "data": {
      "text/plain": [
       "<matplotlib.axes._subplots.AxesSubplot at 0x1fbc9f2bfc8>"
      ]
     },
     "execution_count": 42,
     "metadata": {},
     "output_type": "execute_result"
    },
    {
     "data": {
      "image/png": "[encoded data removed]",
      "text/plain": [
       "<Figure size 432x288 with 1 Axes>"
      ]
     },
     "metadata": {},
     "output_type": "display_data"
    }
   ],
   "source": [
    "pd.crosstab(collision_dec.weather, collision_dec.severity).plot(kind='bar')"
   ]
  },
  {
   "cell_type": "markdown",
   "metadata": {},
   "source": [
    "### Primary Contributing Factor"
   ]
  },
  {
   "cell_type": "markdown",
   "metadata": {},
   "source": [
    "This parameter is probably the most affecting and interesting one. Some interesting patterns can be found based on the figure below. For instance, Automobile Right-of-Way disproportionally accounts for higher Non-PDO collisions than PDO."
   ]
  },
  {
   "cell_type": "code",
   "execution_count": 43,
   "metadata": {},
   "outputs": [
    {
     "data": {
      "text/plain": [
       "<matplotlib.axes._subplots.AxesSubplot at 0x1fbcbe0fc88>"
      ]
     },
     "execution_count": 43,
     "metadata": {},
     "output_type": "execute_result"
    },
    {
     "data": {
      "image/png": "[encoded data removed]",
      "text/plain": [
       "<Figure size 432x288 with 1 Axes>"
      ]
     },
     "metadata": {},
     "output_type": "display_data"
    }
   ],
   "source": [
    "pd.crosstab(collision_dec.primary_cont_fact, collision_dec.severity).plot(kind='bar')"
   ]
  },
  {
   "cell_type": "markdown",
   "metadata": {},
   "source": [
    "### Collision Type"
   ]
  },
  {
   "cell_type": "markdown",
   "metadata": {},
   "source": [
    "Collision type also clearly explains the difference between PDO and Non-PDO collisions, as can be seen by the figure. "
   ]
  },
  {
   "cell_type": "code",
   "execution_count": 44,
   "metadata": {},
   "outputs": [
    {
     "data": {
      "text/plain": [
       "<matplotlib.axes._subplots.AxesSubplot at 0x1fbcbed1e08>"
      ]
     },
     "execution_count": 44,
     "metadata": {},
     "output_type": "execute_result"
    },
    {
     "data": {
      "image/png": "[encoded data removed]",
      "text/plain": [
       "<Figure size 432x288 with 1 Axes>"
      ]
     },
     "metadata": {},
     "output_type": "display_data"
    }
   ],
   "source": [
    "pd.crosstab(collision_dec.collision_type, collision_dec.severity).plot(kind='bar')"
   ]
  },
  {
   "cell_type": "markdown",
   "metadata": {},
   "source": [
    "### Lighting Condition"
   ]
  },
  {
   "cell_type": "markdown",
   "metadata": {},
   "source": [
    "The lighting condition also seems to be affecting the severity outcome of the collisions, as perceived by the figure below. "
   ]
  },
  {
   "cell_type": "code",
   "execution_count": 45,
   "metadata": {},
   "outputs": [
    {
     "data": {
      "text/plain": [
       "<matplotlib.axes._subplots.AxesSubplot at 0x1fbccc20f88>"
      ]
     },
     "execution_count": 45,
     "metadata": {},
     "output_type": "execute_result"
    },
    {
     "data": {
      "image/png": "[encoded data removed]",
      "text/plain": [
       "<Figure size 432x288 with 1 Axes>"
      ]
     },
     "metadata": {},
     "output_type": "display_data"
    }
   ],
   "source": [
    "pd.crosstab(collision_dec.light, collision_dec.severity).plot(kind='bar')"
   ]
  },
  {
   "cell_type": "markdown",
   "metadata": {},
   "source": [
    "## Creating Dummy Variables"
   ]
  },
  {
   "cell_type": "markdown",
   "metadata": {},
   "source": [
    "As I mentioned before, you can't feed categorical variables into machine learning models. A way around it is to create dummy variables, which seggregates each variable into its categories and assigns 0 r 1 if that specific catrgoy is seen in that data point. There are multiple ways to do that, I use get_dummies method of pandas library for this purpose:"
   ]
  },
  {
   "cell_type": "code",
   "execution_count": 46,
   "metadata": {},
   "outputs": [],
   "source": [
    "x = collision_dec[['intersection', 'alcohol_involved', 'day', 'weather', 'primary_cont_fact', 'collision_type', 'light']]\n",
    "y = collision_dec[['severity']]"
   ]
  },
  {
   "cell_type": "code",
   "execution_count": 47,
   "metadata": {},
   "outputs": [
    {
     "data": {
      "text/html": [
       "<div>\n",
       "<style scoped>\n",
       "    .dataframe tbody tr th:only-of-type {\n",
       "        vertical-align: middle;\n",
       "    }\n",
       "\n",
       "    .dataframe tbody tr th {\n",
       "        vertical-align: top;\n",
       "    }\n",
       "\n",
       "    .dataframe thead th {\n",
       "        text-align: right;\n",
       "    }\n",
       "</style>\n",
       "<table border=\"1\" class=\"dataframe\">\n",
       "  <thead>\n",
       "    <tr style=\"text-align: right;\">\n",
       "      <th></th>\n",
       "      <th>intersection_No</th>\n",
       "      <th>intersection_Yes</th>\n",
       "      <th>alcohol_involved_No</th>\n",
       "      <th>alcohol_involved_Yes</th>\n",
       "      <th>day_Weekday</th>\n",
       "      <th>day_Weekend</th>\n",
       "      <th>weather_Clear/Cloudy</th>\n",
       "      <th>weather_Other</th>\n",
       "      <th>weather_Precipitation</th>\n",
       "      <th>primary_cont_fact_Automobile Right of Way</th>\n",
       "      <th>...</th>\n",
       "      <th>collision_type_Hit Object</th>\n",
       "      <th>collision_type_Other</th>\n",
       "      <th>collision_type_Overturned</th>\n",
       "      <th>collision_type_Rear End</th>\n",
       "      <th>collision_type_Sideswipe</th>\n",
       "      <th>collision_type_Vehicle/Pedestrian</th>\n",
       "      <th>light_Dark - No Light</th>\n",
       "      <th>light_Dark - Street Lights</th>\n",
       "      <th>light_Daylight</th>\n",
       "      <th>light_Dusk - Dawn</th>\n",
       "    </tr>\n",
       "  </thead>\n",
       "  <tbody>\n",
       "    <tr>\n",
       "      <th>0</th>\n",
       "      <td>1</td>\n",
       "      <td>0</td>\n",
       "      <td>1</td>\n",
       "      <td>0</td>\n",
       "      <td>1</td>\n",
       "      <td>0</td>\n",
       "      <td>1</td>\n",
       "      <td>0</td>\n",
       "      <td>0</td>\n",
       "      <td>0</td>\n",
       "      <td>...</td>\n",
       "      <td>1</td>\n",
       "      <td>0</td>\n",
       "      <td>0</td>\n",
       "      <td>0</td>\n",
       "      <td>0</td>\n",
       "      <td>0</td>\n",
       "      <td>1</td>\n",
       "      <td>0</td>\n",
       "      <td>0</td>\n",
       "      <td>0</td>\n",
       "    </tr>\n",
       "    <tr>\n",
       "      <th>1</th>\n",
       "      <td>0</td>\n",
       "      <td>1</td>\n",
       "      <td>0</td>\n",
       "      <td>1</td>\n",
       "      <td>1</td>\n",
       "      <td>0</td>\n",
       "      <td>1</td>\n",
       "      <td>0</td>\n",
       "      <td>0</td>\n",
       "      <td>0</td>\n",
       "      <td>...</td>\n",
       "      <td>0</td>\n",
       "      <td>0</td>\n",
       "      <td>0</td>\n",
       "      <td>0</td>\n",
       "      <td>0</td>\n",
       "      <td>1</td>\n",
       "      <td>0</td>\n",
       "      <td>1</td>\n",
       "      <td>0</td>\n",
       "      <td>0</td>\n",
       "    </tr>\n",
       "    <tr>\n",
       "      <th>2</th>\n",
       "      <td>1</td>\n",
       "      <td>0</td>\n",
       "      <td>0</td>\n",
       "      <td>1</td>\n",
       "      <td>1</td>\n",
       "      <td>0</td>\n",
       "      <td>1</td>\n",
       "      <td>0</td>\n",
       "      <td>0</td>\n",
       "      <td>0</td>\n",
       "      <td>...</td>\n",
       "      <td>1</td>\n",
       "      <td>0</td>\n",
       "      <td>0</td>\n",
       "      <td>0</td>\n",
       "      <td>0</td>\n",
       "      <td>0</td>\n",
       "      <td>0</td>\n",
       "      <td>1</td>\n",
       "      <td>0</td>\n",
       "      <td>0</td>\n",
       "    </tr>\n",
       "    <tr>\n",
       "      <th>4</th>\n",
       "      <td>0</td>\n",
       "      <td>1</td>\n",
       "      <td>0</td>\n",
       "      <td>1</td>\n",
       "      <td>1</td>\n",
       "      <td>0</td>\n",
       "      <td>1</td>\n",
       "      <td>0</td>\n",
       "      <td>0</td>\n",
       "      <td>0</td>\n",
       "      <td>...</td>\n",
       "      <td>1</td>\n",
       "      <td>0</td>\n",
       "      <td>0</td>\n",
       "      <td>0</td>\n",
       "      <td>0</td>\n",
       "      <td>0</td>\n",
       "      <td>0</td>\n",
       "      <td>1</td>\n",
       "      <td>0</td>\n",
       "      <td>0</td>\n",
       "    </tr>\n",
       "    <tr>\n",
       "      <th>5</th>\n",
       "      <td>1</td>\n",
       "      <td>0</td>\n",
       "      <td>1</td>\n",
       "      <td>0</td>\n",
       "      <td>1</td>\n",
       "      <td>0</td>\n",
       "      <td>1</td>\n",
       "      <td>0</td>\n",
       "      <td>0</td>\n",
       "      <td>0</td>\n",
       "      <td>...</td>\n",
       "      <td>0</td>\n",
       "      <td>0</td>\n",
       "      <td>0</td>\n",
       "      <td>0</td>\n",
       "      <td>0</td>\n",
       "      <td>1</td>\n",
       "      <td>1</td>\n",
       "      <td>0</td>\n",
       "      <td>0</td>\n",
       "      <td>0</td>\n",
       "    </tr>\n",
       "  </tbody>\n",
       "</table>\n",
       "<p>5 rows × 33 columns</p>\n",
       "</div>"
      ],
      "text/plain": [
       "   intersection_No  intersection_Yes  alcohol_involved_No  \\\n",
       "0                1                 0                    1   \n",
       "1                0                 1                    0   \n",
       "2                1                 0                    0   \n",
       "4                0                 1                    0   \n",
       "5                1                 0                    1   \n",
       "\n",
       "   alcohol_involved_Yes  day_Weekday  day_Weekend  weather_Clear/Cloudy  \\\n",
       "0                     0            1            0                     1   \n",
       "1                     1            1            0                     1   \n",
       "2                     1            1            0                     1   \n",
       "4                     1            1            0                     1   \n",
       "5                     0            1            0                     1   \n",
       "\n",
       "   weather_Other  weather_Precipitation  \\\n",
       "0              0                      0   \n",
       "1              0                      0   \n",
       "2              0                      0   \n",
       "4              0                      0   \n",
       "5              0                      0   \n",
       "\n",
       "   primary_cont_fact_Automobile Right of Way  ...  collision_type_Hit Object  \\\n",
       "0                                          0  ...                          1   \n",
       "1                                          0  ...                          0   \n",
       "2                                          0  ...                          1   \n",
       "4                                          0  ...                          1   \n",
       "5                                          0  ...                          0   \n",
       "\n",
       "   collision_type_Other  collision_type_Overturned  collision_type_Rear End  \\\n",
       "0                     0                          0                        0   \n",
       "1                     0                          0                        0   \n",
       "2                     0                          0                        0   \n",
       "4                     0                          0                        0   \n",
       "5                     0                          0                        0   \n",
       "\n",
       "   collision_type_Sideswipe  collision_type_Vehicle/Pedestrian  \\\n",
       "0                         0                                  0   \n",
       "1                         0                                  1   \n",
       "2                         0                                  0   \n",
       "4                         0                                  0   \n",
       "5                         0                                  1   \n",
       "\n",
       "   light_Dark - No Light  light_Dark - Street Lights  light_Daylight  \\\n",
       "0                      1                           0               0   \n",
       "1                      0                           1               0   \n",
       "2                      0                           1               0   \n",
       "4                      0                           1               0   \n",
       "5                      1                           0               0   \n",
       "\n",
       "   light_Dusk - Dawn  \n",
       "0                  0  \n",
       "1                  0  \n",
       "2                  0  \n",
       "4                  0  \n",
       "5                  0  \n",
       "\n",
       "[5 rows x 33 columns]"
      ]
     },
     "execution_count": 47,
     "metadata": {},
     "output_type": "execute_result"
    }
   ],
   "source": [
    "x_onehot = pd.get_dummies(x)\n",
    "x_onehot.head()"
   ]
  },
  {
   "cell_type": "code",
   "execution_count": 48,
   "metadata": {},
   "outputs": [
    {
     "data": {
      "text/plain": [
       "33"
      ]
     },
     "execution_count": 48,
     "metadata": {},
     "output_type": "execute_result"
    }
   ],
   "source": [
    "# let's see how many dummy variables we have:\n",
    "\n",
    "len(x_onehot.columns)"
   ]
  },
  {
   "cell_type": "markdown",
   "metadata": {},
   "source": [
    "## Feature Selection"
   ]
  },
  {
   "cell_type": "markdown",
   "metadata": {},
   "source": [
    "We know that not all the features can affect the severity of the collisions. Also, think about that: \"we need to one-hot encode all the categorical variables, which means we will be left with so many 0-1 variables. Adding all those variables might cause overfitting which means the developed model will not perform well on the test dataset.\" A good way around this is to use feature selection. There are several methods to do so, but I personally like \"Recursive feature elimination with cross-validation\" or RFECV. Here is how we implemnt it:"
   ]
  },
  {
   "cell_type": "markdown",
   "metadata": {},
   "source": [
    "First we leave out a portion of the data, 25%, for final evaluation, and split the data to train and test datasets using startification method to ensure enough proportion of the observation is present in both train and test sets:"
   ]
  },
  {
   "cell_type": "code",
   "execution_count": 49,
   "metadata": {},
   "outputs": [],
   "source": [
    "X_train, X_test, y_train, y_test = train_test_split(x_onehot, y, test_size=0.25, stratify=collision_dec.severity)"
   ]
  },
  {
   "cell_type": "markdown",
   "metadata": {},
   "source": [
    "You can see below how the propotion is preserved:"
   ]
  },
  {
   "cell_type": "code",
   "execution_count": 50,
   "metadata": {},
   "outputs": [
    {
     "data": {
      "text/plain": [
       "PDO        57.523775\n",
       "Non-PDO    42.476225\n",
       "Name: severity, dtype: float64"
      ]
     },
     "execution_count": 50,
     "metadata": {},
     "output_type": "execute_result"
    }
   ],
   "source": [
    "collision_dec.severity.value_counts()/collision_dec.severity.count()*100"
   ]
  },
  {
   "cell_type": "code",
   "execution_count": 51,
   "metadata": {},
   "outputs": [
    {
     "data": {
      "text/plain": [
       "PDO        57.523968\n",
       "Non-PDO    42.476032\n",
       "Name: severity, dtype: float64"
      ]
     },
     "execution_count": 51,
     "metadata": {},
     "output_type": "execute_result"
    }
   ],
   "source": [
    "y_train.severity.value_counts()/y_train.severity.count()*100"
   ]
  },
  {
   "cell_type": "code",
   "execution_count": 52,
   "metadata": {},
   "outputs": [
    {
     "data": {
      "text/plain": [
       "PDO        57.523195\n",
       "Non-PDO    42.476805\n",
       "Name: severity, dtype: float64"
      ]
     },
     "execution_count": 52,
     "metadata": {},
     "output_type": "execute_result"
    }
   ],
   "source": [
    "y_test.severity.value_counts()/y_test.severity.count()*100"
   ]
  },
  {
   "cell_type": "markdown",
   "metadata": {},
   "source": [
    "Then we initiate a cross-validation iterable. I personally like RepeatedStratifiedCV with 10 folds as it is known to be the practice for classification. However, this method creates repeat*fold models. For instance, if we have 10 folds and 3 repeats, it creates 30 models. This method is computetionally expensive. So we may stick to other methods. Even as simple as cv = 5!"
   ]
  },
  {
   "cell_type": "code",
   "execution_count": 53,
   "metadata": {},
   "outputs": [],
   "source": [
    "cv = RepeatedStratifiedKFold(n_splits=10, n_repeats=3, random_state=1)"
   ]
  },
  {
   "cell_type": "markdown",
   "metadata": {},
   "source": [
    "We also need an estimator that spits out the either \"coef_\" or \"feature_importance_\". I use logistic regression for this purpose:"
   ]
  },
  {
   "cell_type": "code",
   "execution_count": 54,
   "metadata": {},
   "outputs": [],
   "source": [
    "estimator = LogisticRegression()"
   ]
  },
  {
   "cell_type": "markdown",
   "metadata": {},
   "source": [
    "Finally we create the \"selector\" and apply it to our data. We ended up using a simple cv (cv=5) given that the dataset was large and my computer could not handle RepeatedStratifiedKFold CV!"
   ]
  },
  {
   "cell_type": "code",
   "execution_count": 55,
   "metadata": {},
   "outputs": [
    {
     "data": {
      "text/plain": [
       "RFECV(cv=5, estimator=LogisticRegression())"
      ]
     },
     "execution_count": 55,
     "metadata": {},
     "output_type": "execute_result"
    }
   ],
   "source": [
    "selector = RFECV(estimator, step=1, cv=5)\n",
    "selector.fit(X_train, y_train.values.ravel())"
   ]
  },
  {
   "cell_type": "markdown",
   "metadata": {},
   "source": [
    "The next step is to see what parameters were identified as the top ones, we can see those by the following code:"
   ]
  },
  {
   "cell_type": "code",
   "execution_count": 56,
   "metadata": {},
   "outputs": [
    {
     "data": {
      "text/plain": [
       "array([10, 11,  7,  1, 16,  5,  4, 14, 18,  3,  6,  1,  1,  1,  1,  1,  1,\n",
       "        1, 17,  1,  1, 13, 12,  1,  2,  1,  1,  1,  1,  1, 15,  8,  9])"
      ]
     },
     "execution_count": 56,
     "metadata": {},
     "output_type": "execute_result"
    }
   ],
   "source": [
    "selector.ranking_"
   ]
  },
  {
   "cell_type": "markdown",
   "metadata": {},
   "source": [
    "Let's do something cool. We want to see the number of features vs. cross-validation score and see how it looks and how it leads to this number of features selected:"
   ]
  },
  {
   "cell_type": "code",
   "execution_count": 57,
   "metadata": {},
   "outputs": [
    {
     "name": "stdout",
     "output_type": "stream",
     "text": [
      "Optimal number of features : 16\n"
     ]
    },
    {
     "data": {
      "image/png": "[encoded data removed]",
      "text/plain": [
       "<Figure size 720x432 with 1 Axes>"
      ]
     },
     "metadata": {},
     "output_type": "display_data"
    }
   ],
   "source": [
    "print(\"Optimal number of features : %d\" % selector.n_features_)\n",
    "\n",
    "plt.figure(figsize=(10,6))\n",
    "plt.xlabel(\"# of features selected\")\n",
    "plt.ylabel(\"Cross validation score (# of correct classifications)\")\n",
    "plt.plot(range(1, len(selector.grid_scores_) + 1), selector.grid_scores_)\n",
    "plt.show()"
   ]
  },
  {
   "cell_type": "markdown",
   "metadata": {},
   "source": [
    "OK, what are those features? Let's figure that out:"
   ]
  },
  {
   "cell_type": "code",
   "execution_count": 58,
   "metadata": {},
   "outputs": [],
   "source": [
    "cols = selector.get_support(indices=True)\n",
    "X_train_select = X_train.iloc[:,cols]\n",
    "X_test_select = X_test.iloc[:, cols]"
   ]
  },
  {
   "cell_type": "code",
   "execution_count": 59,
   "metadata": {},
   "outputs": [
    {
     "data": {
      "text/plain": [
       "Index(['alcohol_involved_Yes', 'primary_cont_fact_Following Too Closely',\n",
       "       'primary_cont_fact_Improper Passing',\n",
       "       'primary_cont_fact_Improper Turning', 'primary_cont_fact_Other',\n",
       "       'primary_cont_fact_Pedestrian Collision',\n",
       "       'primary_cont_fact_Traffic Signals and Signs',\n",
       "       'primary_cont_fact_Unsafe Lane Change',\n",
       "       'primary_cont_fact_Unsafe Starting or Backing',\n",
       "       'primary_cont_fact_Wrong Side of Road', 'collision_type_Hit Object',\n",
       "       'collision_type_Overturned', 'collision_type_Rear End',\n",
       "       'collision_type_Sideswipe', 'collision_type_Vehicle/Pedestrian',\n",
       "       'light_Dark - No Light'],\n",
       "      dtype='object')"
      ]
     },
     "execution_count": 59,
     "metadata": {},
     "output_type": "execute_result"
    }
   ],
   "source": [
    "X_train_select.columns"
   ]
  },
  {
   "cell_type": "markdown",
   "metadata": {},
   "source": [
    "We even took one step further and used Statsmodels Logit model to see if the identified parameters are statistically significant. Let's see:"
   ]
  },
  {
   "cell_type": "code",
   "execution_count": 60,
   "metadata": {},
   "outputs": [
    {
     "name": "stdout",
     "output_type": "stream",
     "text": [
      "Optimization terminated successfully.\n",
      "         Current function value: 0.618066\n",
      "         Iterations 7\n",
      "                                       Results: Logit\n",
      "=============================================================================================\n",
      "Model:                        Logit                     Pseudo R-squared:          0.093     \n",
      "Dependent Variable:           severity                  AIC:                       91961.8287\n",
      "Date:                         2020-10-31 12:29          BIC:                       92109.2974\n",
      "No. Observations:             74369                     Log-Likelihood:            -45965.   \n",
      "Df Model:                     15                        LL-Null:                   -50703.   \n",
      "Df Residuals:                 74353                     LLR p-value:               0.0000    \n",
      "Converged:                    1.0000                    Scale:                     1.0000    \n",
      "No. Iterations:               7.0000                                                         \n",
      "---------------------------------------------------------------------------------------------\n",
      "                                              Coef.  Std.Err.    z     P>|z|   [0.025  0.975]\n",
      "---------------------------------------------------------------------------------------------\n",
      "alcohol_involved_Yes                          0.3519   0.0277  12.7222 0.0000  0.2977  0.4061\n",
      "primary_cont_fact_Following Too Closely      -0.1103   0.0935  -1.1800 0.2380 -0.2935  0.0729\n",
      "primary_cont_fact_Improper Passing           -0.3841   0.1028  -3.7368 0.0002 -0.5855 -0.1826\n",
      "primary_cont_fact_Improper Turning           -0.0711   0.0242  -2.9347 0.0033 -0.1187 -0.0236\n",
      "primary_cont_fact_Other                      -0.0794   0.0375  -2.1175 0.0342 -0.1529 -0.0059\n",
      "primary_cont_fact_Pedestrian Collision        1.4588   0.1565   9.3197 0.0000  1.1520  1.7656\n",
      "primary_cont_fact_Traffic Signals and Signs   0.6791   0.0312  21.7595 0.0000  0.6179  0.7403\n",
      "primary_cont_fact_Unsafe Lane Change         -0.3834   0.0383 -10.0090 0.0000 -0.4584 -0.3083\n",
      "primary_cont_fact_Unsafe Starting or Backing -1.0722   0.0570 -18.8088 0.0000 -1.1840 -0.9605\n",
      "primary_cont_fact_Wrong Side of Road          1.1034   0.0597  18.4737 0.0000  0.9863  1.2204\n",
      "collision_type_Hit Object                    -0.7510   0.0254 -29.5758 0.0000 -0.8007 -0.7012\n",
      "collision_type_Overturned                     0.9044   0.0650  13.9231 0.0000  0.7771  1.0317\n",
      "collision_type_Rear End                      -0.3559   0.0127 -27.9451 0.0000 -0.3808 -0.3309\n",
      "collision_type_Sideswipe                     -1.2514   0.0294 -42.5048 0.0000 -1.3091 -1.1937\n",
      "collision_type_Vehicle/Pedestrian             2.5310   0.1332  19.0079 0.0000  2.2701  2.7920\n",
      "light_Dark - No Light                        -0.1035   0.0317  -3.2621 0.0011 -0.1658 -0.0413\n",
      "=============================================================================================\n",
      "\n"
     ]
    }
   ],
   "source": [
    "# for the statsmodel, the y variable should be 0-1:\n",
    "y_train_dummy = y_train.severity.apply(lambda x: 1 if x == \"Non-PDO\" else 0)\n",
    "\n",
    "import statsmodels.api as sm\n",
    "logit_model=sm.Logit(y_train_dummy,X_train_select)\n",
    "result=logit_model.fit()\n",
    "print(result.summary2())"
   ]
  },
  {
   "cell_type": "markdown",
   "metadata": {},
   "source": [
    "We see that almost all the features have p-values less than 0.05, which is a good sign. We keep all those features and continue to model development step."
   ]
  },
  {
   "cell_type": "markdown",
   "metadata": {},
   "source": [
    "# Metodology"
   ]
  },
  {
   "cell_type": "markdown",
   "metadata": {},
   "source": [
    "## Model Identification"
   ]
  },
  {
   "cell_type": "markdown",
   "metadata": {},
   "source": [
    "In this study, we considered three models to fit the data. These models include:\n",
    "- Logistic Regression\n",
    "- Decision Tree Analysis\n",
    "- kNN\n",
    "\n",
    "Each of these models has its own hyperparameters that need to be tuned to get the best result out of them. This process needs a method, called the grid search. The way it works is that we identify the hyperparameters that we want to explore for each of the models and then run each model using those hyperparameters. For each model, we then get a set of hyperparameter(s) that help us achieve the best results (scores) for that specific model. To do so, we need to define a function, as below:"
   ]
  },
  {
   "cell_type": "code",
   "execution_count": 61,
   "metadata": {},
   "outputs": [],
   "source": [
    "def best_model(X,y):\n",
    "    models = {\n",
    "        'logistic_regression' : {\n",
    "            'model': LogisticRegression(),\n",
    "            'params': {\n",
    "                'C': [0.01, 0.1, 1, 5, 10],\n",
    "                'solver' : ['newton-cg', 'lbfgs', 'liblinear', 'sag', 'saga']\n",
    "            }\n",
    "        },\n",
    "        'decision_tree': {\n",
    "            'model': DecisionTreeClassifier(),\n",
    "            'params': {\n",
    "                'criterion': ['gini', 'entropy'],\n",
    "                'splitter': ['best', 'random'],\n",
    "                'max_depth': [5, 6, 7, 8, 9, 10]\n",
    "            }\n",
    "        },\n",
    "        'kNN': {\n",
    "            'model': KNeighborsClassifier(),\n",
    "            'params': {\n",
    "                'n_neighbors' : [3, 4, 5, 6, 7, 8, 9, 10],\n",
    "                'weights': ['uniform', 'distance'],\n",
    "                'algorithm' : ['auto', 'ball_tree', 'kd_tree', 'brute']\n",
    "            }\n",
    "        }\n",
    "    }\n",
    "    scores = []\n",
    "    for model_name, config in models.items():\n",
    "        gs =  GridSearchCV(config['model'], config['params'], cv=5, return_train_score=False) # you can use whatever cv function you want, instead of cv=5\n",
    "        gs.fit(X,y.values.ravel())\n",
    "        scores.append({\n",
    "            'model': model_name,\n",
    "            'best_score': gs.best_score_,\n",
    "            'best_params': gs.best_params_\n",
    "        })\n",
    "\n",
    "    return pd.DataFrame(scores,columns=['model','best_score','best_params'])"
   ]
  },
  {
   "cell_type": "markdown",
   "metadata": {},
   "source": [
    "We then use that function to identify the best hyperparameters for each of the models, like below:"
   ]
  },
  {
   "cell_type": "code",
   "execution_count": 62,
   "metadata": {},
   "outputs": [
    {
     "data": {
      "text/html": [
       "<div>\n",
       "<style scoped>\n",
       "    .dataframe tbody tr th:only-of-type {\n",
       "        vertical-align: middle;\n",
       "    }\n",
       "\n",
       "    .dataframe tbody tr th {\n",
       "        vertical-align: top;\n",
       "    }\n",
       "\n",
       "    .dataframe thead th {\n",
       "        text-align: right;\n",
       "    }\n",
       "</style>\n",
       "<table border=\"1\" class=\"dataframe\">\n",
       "  <thead>\n",
       "    <tr style=\"text-align: right;\">\n",
       "      <th></th>\n",
       "      <th>model</th>\n",
       "      <th>best_score</th>\n",
       "      <th>best_params</th>\n",
       "    </tr>\n",
       "  </thead>\n",
       "  <tbody>\n",
       "    <tr>\n",
       "      <th>0</th>\n",
       "      <td>logistic_regression</td>\n",
       "      <td>0.656403</td>\n",
       "      <td>{'C': 1, 'solver': 'newton-cg'}</td>\n",
       "    </tr>\n",
       "    <tr>\n",
       "      <th>1</th>\n",
       "      <td>decision_tree</td>\n",
       "      <td>0.656039</td>\n",
       "      <td>{'criterion': 'gini', 'max_depth': 6, 'splitte...</td>\n",
       "    </tr>\n",
       "    <tr>\n",
       "      <th>2</th>\n",
       "      <td>kNN</td>\n",
       "      <td>0.639541</td>\n",
       "      <td>{'algorithm': 'brute', 'n_neighbors': 3, 'weig...</td>\n",
       "    </tr>\n",
       "  </tbody>\n",
       "</table>\n",
       "</div>"
      ],
      "text/plain": [
       "                 model  best_score  \\\n",
       "0  logistic_regression    0.656403   \n",
       "1        decision_tree    0.656039   \n",
       "2                  kNN    0.639541   \n",
       "\n",
       "                                         best_params  \n",
       "0                    {'C': 1, 'solver': 'newton-cg'}  \n",
       "1  {'criterion': 'gini', 'max_depth': 6, 'splitte...  \n",
       "2  {'algorithm': 'brute', 'n_neighbors': 3, 'weig...  "
      ]
     },
     "execution_count": 62,
     "metadata": {},
     "output_type": "execute_result"
    }
   ],
   "source": [
    "best_model(X_train_select, y_train)"
   ]
  },
  {
   "cell_type": "markdown",
   "metadata": {},
   "source": [
    "The table above shows the best hyperparameters for each of the models. For instance, we can see that the best performance for the logoitic regression model is achieved when C=1 and the solver is set to 'newton-cg'."
   ]
  },
  {
   "cell_type": "code",
   "execution_count": 63,
   "metadata": {},
   "outputs": [],
   "source": [
    "import winsound         # for sound  \n",
    "import time             # for sleep\n",
    "\n",
    "winsound.Beep(440, 1000) # frequency, duration\n",
    "time.sleep(0.25)        # in seconds (0.25 is 250ms)\n",
    "\n",
    "winsound.Beep(600, 1000)\n",
    "time.sleep(0.25)"
   ]
  },
  {
   "cell_type": "markdown",
   "metadata": {},
   "source": [
    "## Model Evaluation Metrics"
   ]
  },
  {
   "cell_type": "markdown",
   "metadata": {},
   "source": [
    "Now that we have the best hyperparameters for each of the selected models, the next step is to compare the best of these models against each other and come up with the winning model that outperforms the others. The confusion matrix is a well-known tool to assess and evaluate the performance of classification methods. The tool can help calculate several metrics such as precision and recall. In this problem, we do care about both correctly predicted positive cases (Non-PDO) and negative cases (PDO), hence we suggest combining precision and recall. The combination of these two metrics is feasible through the calculation of the f1-score. Furthermore, accuracy, calculated as the total number of correctly predicted classes divided by total sample size is another important metric we would like to calculate and consider."
   ]
  },
  {
   "cell_type": "markdown",
   "metadata": {},
   "source": [
    "# Results"
   ]
  },
  {
   "cell_type": "markdown",
   "metadata": {},
   "source": [
    "Now that we know the best hyperparameters for each model and have identified our performance evaluation metrics, we need to develop the models, one by one, using the hyperparameters and calculate the performance metrics. Let's keep moving:"
   ]
  },
  {
   "cell_type": "markdown",
   "metadata": {},
   "source": [
    "## Logistic Regression"
   ]
  },
  {
   "cell_type": "code",
   "execution_count": 64,
   "metadata": {},
   "outputs": [],
   "source": [
    "log_reg = LogisticRegression(C=1, solver='newton-cg') # initializing the model\n",
    "log_reg.fit(X_train_select, y_train.values.ravel()) # fitting the model\n",
    "yhat_log_reg = log_reg.predict(X_test_select) # calculating predicted classes"
   ]
  },
  {
   "cell_type": "code",
   "execution_count": 65,
   "metadata": {},
   "outputs": [
    {
     "data": {
      "image/png": "[encoded data removed]",
      "text/plain": [
       "<Figure size 432x288 with 2 Axes>"
      ]
     },
     "metadata": {},
     "output_type": "display_data"
    }
   ],
   "source": [
    "# plotting confusion matrix\n",
    "plt.rcParams.update({'font.size': 12})\n",
    "plot_confusion_matrix(log_reg, X_test_select, y_test, cmap=plt.cm.Blues)\n",
    "plt.grid(b=None) # getting rid of the grids in the middle of the cells"
   ]
  },
  {
   "cell_type": "code",
   "execution_count": 66,
   "metadata": {},
   "outputs": [
    {
     "name": "stdout",
     "output_type": "stream",
     "text": [
      "              precision    recall  f1-score   support\n",
      "\n",
      "     Non-PDO       0.64      0.43      0.51     10530\n",
      "         PDO       0.66      0.82      0.73     14260\n",
      "\n",
      "    accuracy                           0.65     24790\n",
      "   macro avg       0.65      0.62      0.62     24790\n",
      "weighted avg       0.65      0.65      0.64     24790\n",
      "\n"
     ]
    }
   ],
   "source": [
    "# generating classification report\n",
    "print(classification_report(y_test, yhat_log_reg))"
   ]
  },
  {
   "cell_type": "markdown",
   "metadata": {},
   "source": [
    "## Decision Tree Analysis"
   ]
  },
  {
   "cell_type": "markdown",
   "metadata": {},
   "source": [
    "By playing with the model, we noticed that the best criterion is 'entropy' and the optimal tree depth is 5."
   ]
  },
  {
   "cell_type": "code",
   "execution_count": 67,
   "metadata": {},
   "outputs": [],
   "source": [
    "dec_tree = DecisionTreeClassifier(criterion='gini', max_depth=10, splitter='best') # initializing the model\n",
    "dec_tree.fit(X_train_select, y_train) # fitting the model\n",
    "yhat_dec_tree = dec_tree.predict(X_test_select) # calculating predicted classes"
   ]
  },
  {
   "cell_type": "code",
   "execution_count": 68,
   "metadata": {},
   "outputs": [
    {
     "data": {
      "image/png": "[encoded data removed]",
      "text/plain": [
       "<Figure size 432x288 with 2 Axes>"
      ]
     },
     "metadata": {},
     "output_type": "display_data"
    }
   ],
   "source": [
    "# plotting confusion matrix\n",
    "plt.rcParams.update({'font.size': 12})\n",
    "plot_confusion_matrix(dec_tree, X_test_select, y_test, cmap=plt.cm.Blues)\n",
    "plt.grid(b=None) # getting rid of the grids in the middle of the cells"
   ]
  },
  {
   "cell_type": "code",
   "execution_count": 69,
   "metadata": {},
   "outputs": [
    {
     "name": "stdout",
     "output_type": "stream",
     "text": [
      "              precision    recall  f1-score   support\n",
      "\n",
      "     Non-PDO       0.63      0.44      0.52     10530\n",
      "         PDO       0.66      0.81      0.73     14260\n",
      "\n",
      "    accuracy                           0.65     24790\n",
      "   macro avg       0.65      0.63      0.62     24790\n",
      "weighted avg       0.65      0.65      0.64     24790\n",
      "\n"
     ]
    }
   ],
   "source": [
    "print(classification_report(y_test, yhat_dec_tree))"
   ]
  },
  {
   "cell_type": "markdown",
   "metadata": {},
   "source": [
    "## k-Nearest Neighbor"
   ]
  },
  {
   "cell_type": "code",
   "execution_count": 70,
   "metadata": {},
   "outputs": [],
   "source": [
    "knn = KNeighborsClassifier(algorithm='ball_tree') # initializing the model\n",
    "knn.fit(X_train_select, y_train.values.ravel()) # fitting the model\n",
    "yhat_knn = knn.predict(X_test_select) # calculating predicted classes"
   ]
  },
  {
   "cell_type": "code",
   "execution_count": 71,
   "metadata": {},
   "outputs": [
    {
     "data": {
      "image/png": "[encoded data removed]",
      "text/plain": [
       "<Figure size 432x288 with 2 Axes>"
      ]
     },
     "metadata": {},
     "output_type": "display_data"
    }
   ],
   "source": [
    "# plotting confusion matrix\n",
    "plt.rcParams.update({'font.size': 12})\n",
    "plot_confusion_matrix(knn, X_test_select, y_test, cmap=plt.cm.Blues)\n",
    "plt.grid(b=None) # getting rid of the grids in the middle of the cells"
   ]
  },
  {
   "cell_type": "code",
   "execution_count": 72,
   "metadata": {},
   "outputs": [
    {
     "name": "stdout",
     "output_type": "stream",
     "text": [
      "              precision    recall  f1-score   support\n",
      "\n",
      "     Non-PDO       0.64      0.41      0.50     10530\n",
      "         PDO       0.66      0.83      0.73     14260\n",
      "\n",
      "    accuracy                           0.65     24790\n",
      "   macro avg       0.65      0.62      0.62     24790\n",
      "weighted avg       0.65      0.65      0.63     24790\n",
      "\n"
     ]
    }
   ],
   "source": [
    "print(classification_report(y_test, yhat_knn))"
   ]
  },
  {
   "cell_type": "markdown",
   "metadata": {},
   "source": [
    "# Discussions and Recommendations"
   ]
  },
  {
   "cell_type": "markdown",
   "metadata": {},
   "source": [
    "This study analyzed the vehicle collisions and the resulting injury severity in nearly 100,000 collisions from 2015 to 2019 in unincorporated Sacramento County in California. Collision data were split based on the injury severity outcome to two classes: property damage only (PDO) and non-PDO. Three models, including logistic regression, decision tree, and kNN, were nominated to fit the data. The models were evaluated using precision, recall, F1-score, and accuracy. "
   ]
  },
  {
   "cell_type": "markdown",
   "metadata": {},
   "source": [
    "As can be seen from the performance evaluation metrics, all the models provide a similar accuracy of 0.65. Given the importance of the prediction of Non-PDO collisions, we do care more about recall than precision. Accordingly, Decision Tree provides a slightly better result, though negligible. The f1-score for Decision Tree for Non-PDO collisions is also slightly better."
   ]
  },
  {
   "cell_type": "markdown",
   "metadata": {},
   "source": [
    "As you can see, even the best model has still room for improvement. We can improve the performance of our models using a variety of methods and techniques. The initial guess is that we could have segregated the data more based on the severity outcome. While it will leave us an imbalanced dataset, we can employ oversampling techniques, such as SMOTE, to overcome this issue. Other methods that we can consider include feature engineering, other feature selection methods (such as PCA), using other algorithms, and ensemble methods. We will explore some of these techniques later.\n",
    "\n",
    "If you have any questions about any part of the data, do not hesitate to reach out to me at mahdipn[at]gmail[dot]com.\n",
    "\n",
    "Enjoy coding!"
   ]
  }
 ],
 "metadata": {
  "kernelspec": {
   "display_name": "Python 3",
   "language": "python",
   "name": "python3"
  },
  "language_info": {
   "codemirror_mode": {
    "name": "ipython",
    "version": 3
   },
   "file_extension": ".py",
   "mimetype": "text/x-python",
   "name": "python",
   "nbconvert_exporter": "python",
   "pygments_lexer": "ipython3",
   "version": "3.7.6"
  },
  "toc-autonumbering": true,
  "toc-showcode": false,
  "toc-showmarkdowntxt": false,
  "toc-showtags": false
 },
 "nbformat": 4,
 "nbformat_minor": 4
}
